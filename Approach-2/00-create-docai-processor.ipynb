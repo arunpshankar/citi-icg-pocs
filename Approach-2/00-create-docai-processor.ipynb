{
 "cells": [
  {
   "cell_type": "markdown",
   "metadata": {},
   "source": [
    "## DocAI Parser\n",
    "This notebook demonstrates how to set up and use Google's Document AI (DocAI) service for document processing. We'll be going through the following steps:<br>\n",
    "<br>\n",
    "- Setup: Import necessary libraries and initialize logging.<br>\n",
    "- Configuration: Define essential parameters and authenticate with the service.<br>\n",
    "- Fetch Available Processor Types: Check which document processors are available for creation.<br>\n",
    "- Create a DocAI Processor: Set up a new document processor for our use case.<br>"
   ]
  },
  {
   "cell_type": "markdown",
   "metadata": {},
   "source": [
    "#### 1. Setup\n",
    "1.1. Importing Necessary Libraries"
   ]
  },
  {
   "cell_type": "code",
   "execution_count": 1,
   "metadata": {},
   "outputs": [],
   "source": [
    "from google.api_core.client_options import ClientOptions\n",
    "from google.cloud import documentai\n",
    "import logging\n",
    "import os"
   ]
  },
  {
   "cell_type": "markdown",
   "metadata": {},
   "source": [
    "#### 1.2. Initialize Logging\n",
    "To keep track of our operations and potential issues, we're setting up a basic logging mechanism."
   ]
  },
  {
   "cell_type": "code",
   "execution_count": 2,
   "metadata": {},
   "outputs": [],
   "source": [
    "logger = logging.getLogger(__name__)\n",
    "logger.setLevel(logging.INFO)\n",
    "logger.addHandler(logging.StreamHandler())"
   ]
  },
  {
   "cell_type": "markdown",
   "metadata": {},
   "source": [
    "#### 2. Configuration\n",
    "2.1. Authentication and Environment Setup<br><br>\n",
    "To interact with the Google Cloud services, we need to set up authentication using service account credentials.<br><br>\n",
    "\n",
    "🔴 Note: Ensure that the service account key file (vai-key.json) is present in the specified path before executing the code."
   ]
  },
  {
   "cell_type": "code",
   "execution_count": 3,
   "metadata": {},
   "outputs": [],
   "source": [
    "os.environ['GOOGLE_APPLICATION_CREDENTIALS'] = './../credentials/vai-key.json'"
   ]
  },
  {
   "cell_type": "markdown",
   "metadata": {},
   "source": [
    "2.2. Define Essential Parameters<br><br>\n",
    "These parameters will define which GCP project and region we're working with."
   ]
  },
  {
   "cell_type": "code",
   "execution_count": 4,
   "metadata": {},
   "outputs": [],
   "source": [
    "PROJECT_ID = 'arun-genai-bb'\n",
    "LOCATION = 'us'  # Note: 'us' here doesn't refer to 'us-central1'\n",
    "client_options = ClientOptions(api_endpoint=f\"{LOCATION}-documentai.googleapis.com\")\n",
    "client = documentai.DocumentProcessorServiceClient(client_options=client_options)\n",
    "parent = client.common_location_path(PROJECT_ID, LOCATION)"
   ]
  },
  {
   "cell_type": "markdown",
   "metadata": {},
   "source": [
    "#### 3. Fetch Available Processor Types\n",
    "Before creating our processor, let's check which types of processors we can create."
   ]
  },
  {
   "cell_type": "code",
   "execution_count": 5,
   "metadata": {},
   "outputs": [
    {
     "name": "stderr",
     "output_type": "stream",
     "text": [
      "INVOICE_PROCESSOR\n",
      "CUSTOM_EXTRACTION_PROCESSOR\n",
      "FORM_PARSER_PROCESSOR\n",
      "OCR_PROCESSOR\n",
      "FORM_W9_PROCESSOR\n",
      "CUSTOM_CLASSIFICATION_PROCESSOR\n",
      "UTILITY_PROCESSOR\n",
      "EXPENSE_PROCESSOR\n",
      "CUSTOM_SPLITTING_PROCESSOR\n",
      "US_DRIVER_LICENSE_PROCESSOR\n",
      "US_PASSPORT_PROCESSOR\n",
      "PURCHASE_ORDER_PROCESSOR\n",
      "ID_PROOFING_PROCESSOR\n",
      "SUMMARY_PROCESSOR\n"
     ]
    }
   ],
   "source": [
    "response = client.fetch_processor_types(parent=parent)\n",
    "for processor_type in response.processor_types:\n",
    "    if processor_type.allow_creation:\n",
    "        logger.info(processor_type.type_)\n"
   ]
  },
  {
   "cell_type": "markdown",
   "metadata": {},
   "source": [
    "#### 4. Create a DocAI Processor\n",
    "Now, let's create a new DocAI processor specifically for our needs. In this case, we're setting up an OCR processor.<br><br>\n",
    "\n",
    "💡 Tip: If you frequently work with specific types of documents, consider creating specialized processors for them."
   ]
  },
  {
   "cell_type": "code",
   "execution_count": 6,
   "metadata": {},
   "outputs": [
    {
     "data": {
      "text/plain": [
       "name: \"projects/390991481152/locations/us/processors/e02745c109a7cbc4\"\n",
       "type_: \"OCR_PROCESSOR\"\n",
       "display_name: \"doc-processor01\"\n",
       "state: ENABLED\n",
       "default_processor_version: \"projects/390991481152/locations/us/processors/e02745c109a7cbc4/processorVersions/pretrained-ocr-v1.0-2020-09-23\"\n",
       "process_endpoint: \"https://us-documentai.googleapis.com/v1/projects/390991481152/locations/us/processors/e02745c109a7cbc4:process\"\n",
       "create_time {\n",
       "  seconds: 1698334962\n",
       "  nanos: 570907000\n",
       "}"
      ]
     },
     "execution_count": 6,
     "metadata": {},
     "output_type": "execute_result"
    }
   ],
   "source": [
    "docai_processor = client.create_processor(parent=parent, \n",
    "                                          processor=documentai.Processor(display_name='doc-processor01', \n",
    "                                                                         type_='OCR_PROCESSOR'))\n",
    "docai_processor"
   ]
  }
 ],
 "metadata": {
  "kernelspec": {
   "display_name": ".citi-icg-pocs",
   "language": "python",
   "name": "python3"
  },
  "language_info": {
   "codemirror_mode": {
    "name": "ipython",
    "version": 3
   },
   "file_extension": ".py",
   "mimetype": "text/x-python",
   "name": "python",
   "nbconvert_exporter": "python",
   "pygments_lexer": "ipython3",
   "version": "3.9.6"
  }
 },
 "nbformat": 4,
 "nbformat_minor": 2
}
