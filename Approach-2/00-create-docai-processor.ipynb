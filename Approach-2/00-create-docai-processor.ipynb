{
 "cells": [
  {
   "cell_type": "markdown",
   "metadata": {},
   "source": [
    "## DocAI Parser"
   ]
  },
  {
   "cell_type": "markdown",
   "metadata": {},
   "source": [
    "#### Imports "
   ]
  },
  {
   "cell_type": "code",
   "execution_count": 8,
   "metadata": {},
   "outputs": [],
   "source": [
    "from google.api_core.client_options import ClientOptions\n",
    "from google.cloud import documentai\n",
    "import logging\n",
    "import os "
   ]
  },
  {
   "cell_type": "markdown",
   "metadata": {},
   "source": [
    "##### Setup logging"
   ]
  },
  {
   "cell_type": "code",
   "execution_count": 9,
   "metadata": {},
   "outputs": [],
   "source": [
    "logger = logging.getLogger(__name__)\n",
    "logger.setLevel(logging.INFO)\n",
    "logger.addHandler(logging.StreamHandler())"
   ]
  },
  {
   "cell_type": "markdown",
   "metadata": {},
   "source": [
    "#### Essentials "
   ]
  },
  {
   "cell_type": "code",
   "execution_count": 10,
   "metadata": {},
   "outputs": [],
   "source": [
    "os.environ['GOOGLE_APPLICATION_CREDENTIALS'] = './../credentials/vai-key.json'\n",
    "\n",
    "PROJECT_ID = 'arun-genai-bb'\n",
    "LOCATION = 'us'  # not us-central1"
   ]
  },
  {
   "cell_type": "code",
   "execution_count": 11,
   "metadata": {},
   "outputs": [],
   "source": [
    "client_options = ClientOptions(api_endpoint=f\"{LOCATION}-documentai.googleapis.com\")\n",
    "client = documentai.DocumentProcessorServiceClient(client_options=client_options)\n",
    "parent = client.common_location_path(PROJECT_ID, LOCATION)"
   ]
  },
  {
   "cell_type": "markdown",
   "metadata": {},
   "source": [
    "##### Fetch all processor types"
   ]
  },
  {
   "cell_type": "code",
   "execution_count": 12,
   "metadata": {},
   "outputs": [
    {
     "name": "stderr",
     "output_type": "stream",
     "text": [
      "INVOICE_PROCESSOR\n",
      "INVOICE_PROCESSOR\n",
      "CUSTOM_EXTRACTION_PROCESSOR\n",
      "CUSTOM_EXTRACTION_PROCESSOR\n",
      "FORM_PARSER_PROCESSOR\n",
      "FORM_PARSER_PROCESSOR\n",
      "OCR_PROCESSOR\n",
      "OCR_PROCESSOR\n",
      "FORM_W9_PROCESSOR\n",
      "FORM_W9_PROCESSOR\n",
      "CUSTOM_CLASSIFICATION_PROCESSOR\n",
      "CUSTOM_CLASSIFICATION_PROCESSOR\n",
      "UTILITY_PROCESSOR\n",
      "UTILITY_PROCESSOR\n",
      "EXPENSE_PROCESSOR\n",
      "EXPENSE_PROCESSOR\n",
      "CUSTOM_SPLITTING_PROCESSOR\n",
      "CUSTOM_SPLITTING_PROCESSOR\n",
      "US_DRIVER_LICENSE_PROCESSOR\n",
      "US_DRIVER_LICENSE_PROCESSOR\n",
      "US_PASSPORT_PROCESSOR\n",
      "US_PASSPORT_PROCESSOR\n",
      "PURCHASE_ORDER_PROCESSOR\n",
      "PURCHASE_ORDER_PROCESSOR\n",
      "ID_PROOFING_PROCESSOR\n",
      "ID_PROOFING_PROCESSOR\n",
      "SUMMARY_PROCESSOR\n",
      "SUMMARY_PROCESSOR\n"
     ]
    }
   ],
   "source": [
    "response = client.fetch_processor_types(parent=parent)\n",
    "for processor_type in response.processor_types:\n",
    "    if processor_type.allow_creation:\n",
    "        logger.info(processor_type.type_)"
   ]
  },
  {
   "cell_type": "markdown",
   "metadata": {},
   "source": [
    "##### Create docai processor"
   ]
  },
  {
   "cell_type": "code",
   "execution_count": 13,
   "metadata": {},
   "outputs": [
    {
     "data": {
      "text/plain": [
       "name: \"projects/390991481152/locations/us/processors/ad9557a5be49204e\"\n",
       "type_: \"OCR_PROCESSOR\"\n",
       "display_name: \"fin-doc-processor\"\n",
       "state: ENABLED\n",
       "default_processor_version: \"projects/390991481152/locations/us/processors/ad9557a5be49204e/processorVersions/pretrained-ocr-v1.0-2020-09-23\"\n",
       "process_endpoint: \"https://us-documentai.googleapis.com/v1/projects/390991481152/locations/us/processors/ad9557a5be49204e:process\"\n",
       "create_time {\n",
       "  seconds: 1695085779\n",
       "  nanos: 760941000\n",
       "}"
      ]
     },
     "execution_count": 13,
     "metadata": {},
     "output_type": "execute_result"
    }
   ],
   "source": [
    "docai_processor = client.create_processor(parent=parent, \n",
    "                                          processor=documentai.Processor(display_name='fin-doc-processor', \n",
    "                                                                         type_='OCR_PROCESSOR'))\n",
    "docai_processor"
   ]
  }
 ],
 "metadata": {
  "kernelspec": {
   "display_name": ".venv",
   "language": "python",
   "name": "python3"
  },
  "language_info": {
   "codemirror_mode": {
    "name": "ipython",
    "version": 3
   },
   "file_extension": ".py",
   "mimetype": "text/x-python",
   "name": "python",
   "nbconvert_exporter": "python",
   "pygments_lexer": "ipython3",
   "version": "3.9.6"
  },
  "orig_nbformat": 4
 },
 "nbformat": 4,
 "nbformat_minor": 2
}
