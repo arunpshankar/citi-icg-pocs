{
 "cells": [
  {
   "cell_type": "markdown",
   "metadata": {},
   "source": [
    "# Long Form Summarization using VertexAI's `GPT-4 8k` and `DocAI`\n",
    "\n",
    "This notebook will cover the steps as described below:\n",
    "\n",
    "<span style=\"color:blue; font-weight:bold\">Setup</span>\n",
    "- Import Libraries: Get all the necessary Python libraries onboard.\n",
    "- Initialize Logging: Make sure we have a log of all the operations.\n",
    "\n",
    "<span style=\"color:green; font-weight:bold\">Configuration</span>\n",
    "- Define Parameters: Lay out all the essential parameters for our operations.\n",
    "- Authentication: Authenticate the user and ensure security.\n",
    "- Setup Clients: Initialize the API clients for our services.\n",
    "\n",
    "<span style=\"color:purple; font-weight:bold\">Document Preprocessing</span>\n",
    "- Split PDF: Break the PDF into manageable chunks for better OCR results.\n",
    "\n",
    "<span style=\"color:orange; font-weight:bold\">Document OCR</span>\n",
    "- Convert to Text: Use DocAI to transcribe the PDF content into text format.\n",
    "\n",
    "<span style=\"color:red; font-weight:bold\">Summarization</span>\n",
    "- Use `GPT-4 8k`: Employ the power of the `GPT-4 8k` model to perform multiple rounds of summarization on our document.\n",
    "\n",
    "<span style=\"color:teal; font-weight:bold\">Final Consolidation</span>\n",
    "- Refine Summary: Make sure the summary is crisp and to the point.\n",
    "- Save: Store the final summary for future reference.\n",
    "\n",
    "<span style=\"color:brown; font-weight:bold\">Focused Summarization</span>\n",
    "- Extract Sections: Dive deeper and pull out specific sections from the final summary for a more focused understanding."
   ]
  },
  {
   "cell_type": "markdown",
   "metadata": {},
   "source": [
    "#### Imports "
   ]
  },
  {
   "cell_type": "code",
   "execution_count": 46,
   "metadata": {},
   "outputs": [],
   "source": [
    "from langchain.prompts.chat import SystemMessagePromptTemplate\n",
    "from langchain.prompts.chat import HumanMessagePromptTemplate\n",
    "from google.api_core.client_options import ClientOptions\n",
    "from langchain.prompts.chat import ChatPromptTemplate\n",
    "from concurrent.futures import ThreadPoolExecutor\n",
    "from langchain.chat_models import ChatOpenAI\n",
    "from langchain.schema import SystemMessage\n",
    "from langchain.schema import HumanMessage\n",
    "from google.cloud import documentai\n",
    "from pypdf import PdfWriter\n",
    "from pypdf import PdfReader \n",
    "from tqdm import tqdm\n",
    "import tiktoken\n",
    "import vertexai\n",
    "import requests\n",
    "import logging\n",
    "import time\n",
    "import json\n",
    "import yaml\n",
    "import os"
   ]
  },
  {
   "cell_type": "markdown",
   "metadata": {},
   "source": [
    "##### Setup logging "
   ]
  },
  {
   "cell_type": "code",
   "execution_count": 2,
   "metadata": {},
   "outputs": [],
   "source": [
    "logger = logging.getLogger(__name__)\n",
    "logger.setLevel(logging.INFO)\n",
    "logger.addHandler(logging.StreamHandler())"
   ]
  },
  {
   "cell_type": "markdown",
   "metadata": {},
   "source": [
    "#### Essentials "
   ]
  },
  {
   "cell_type": "code",
   "execution_count": 3,
   "metadata": {},
   "outputs": [],
   "source": [
    "os.environ['GOOGLE_APPLICATION_CREDENTIALS'] = './../credentials/vai-key.json'\n",
    "access_token = !gcloud auth print-access-token"
   ]
  },
  {
   "cell_type": "code",
   "execution_count": 5,
   "metadata": {},
   "outputs": [],
   "source": [
    "with open('./../credentials/oai-key.yml', 'rb') as f:\n",
    "    credentials = yaml.safe_load(f)\n",
    "    \n",
    "api_key = credentials['key']\n",
    "os.environ['OPENAI_API_KEY'] = api_key"
   ]
  },
  {
   "cell_type": "code",
   "execution_count": 6,
   "metadata": {},
   "outputs": [],
   "source": [
    "PROJECT_ID = 'arun-genai-bb'\n",
    "LOCATION = 'us-central1'\n",
    "MODEL_NAME = 'gpt-4'\n",
    "ENCODING_NAME = 'cl100k_base'\n",
    "CONTEXT_LENGTH = 8196  # GPT-4\n",
    "STREAMING_API_URL = f'https://us-central1-aiplatform.googleapis.com/ui/projects/{PROJECT_ID}/locations/us-central1/publishers/google/models/{MODEL_NAME}:serverStreamingPredict'\n",
    "DOCAI_PROCESSOR_NAME = 'projects/390991481152/locations/us/processors/ad9557a5be49204e'  # copy from notebook 00\n",
    "vertexai.init(project=PROJECT_ID, location=LOCATION)"
   ]
  },
  {
   "cell_type": "code",
   "execution_count": 7,
   "metadata": {},
   "outputs": [],
   "source": [
    "client_options = ClientOptions(api_endpoint=f'us-documentai.googleapis.com')\n",
    "docai_client = documentai.DocumentProcessorServiceClient(client_options=client_options)"
   ]
  },
  {
   "cell_type": "code",
   "execution_count": 8,
   "metadata": {},
   "outputs": [
    {
     "name": "stderr",
     "output_type": "stream",
     "text": [
      "Using encoder==cl100k_base\n"
     ]
    }
   ],
   "source": [
    "encoder = tiktoken.get_encoding(ENCODING_NAME)\n",
    "logger.info(f'Using encoder=={encoder.name}')"
   ]
  },
  {
   "cell_type": "code",
   "execution_count": 10,
   "metadata": {},
   "outputs": [
    {
     "name": "stderr",
     "output_type": "stream",
     "text": [
      "Using model==gpt-4\n"
     ]
    }
   ],
   "source": [
    "model = ChatOpenAI(openai_api_key=api_key, \n",
    "                   model_name=MODEL_NAME, \n",
    "                   temperature=0.0, \n",
    "                   max_tokens=512)\n",
    "logger.info(f'Using model=={model.model_name}')"
   ]
  },
  {
   "cell_type": "markdown",
   "metadata": {},
   "source": [
    "#### Use Google DocumentAI to process input PDF"
   ]
  },
  {
   "cell_type": "markdown",
   "metadata": {},
   "source": [
    "##### Break PDF into smaller PDFs for OCR"
   ]
  },
  {
   "cell_type": "code",
   "execution_count": 11,
   "metadata": {},
   "outputs": [],
   "source": [
    "LOCAL_INPUT_DIR = './DATA/INPUT'\n",
    "LOCAL_OUTPUT_DIR = './DATA/OUTPUT'\n",
    "FILE_NAME = 'file-2'"
   ]
  },
  {
   "cell_type": "code",
   "execution_count": 12,
   "metadata": {},
   "outputs": [],
   "source": [
    "reader = PdfReader(f'{LOCAL_INPUT_DIR}/{FILE_NAME}.pdf') \n",
    "pages = {}\n",
    "\n",
    "for i, page in enumerate(reader.pages):\n",
    "    pages[i] = page"
   ]
  },
  {
   "cell_type": "code",
   "execution_count": 13,
   "metadata": {},
   "outputs": [],
   "source": [
    "n = len(reader.pages)\n",
    "d = 15  # docai has a current constraint of 15 pages per document \n",
    "for i in range(0, n, d):\n",
    "    writer = PdfWriter()\n",
    "    for j in range(i, i+d):\n",
    "        if j < n:\n",
    "            writer.add_page(pages[j])\n",
    "    os.makedirs(f'{LOCAL_INPUT_DIR}/{FILE_NAME}/PARTS/', exist_ok=True)\n",
    "    with open(f'{LOCAL_INPUT_DIR}/{FILE_NAME}/PARTS/{FILE_NAME}_{i+1}-{i+d}.pdf', 'wb') as f:\n",
    "        writer.write(f)"
   ]
  },
  {
   "cell_type": "code",
   "execution_count": 14,
   "metadata": {},
   "outputs": [],
   "source": [
    "def layout_to_text(layout: documentai.Document.Page.Layout, text: str) -> str:\n",
    "    \"\"\"\n",
    "    Document AI identifies text in different parts of the document by their\n",
    "    offsets in the entirety of the document's text. This function converts\n",
    "    offsets to a string.\n",
    "    \"\"\"\n",
    "    # If a text segment spans several lines, it will be stored in different text segments.\n",
    "    return ''.join(text[int(segment.start_index): int(segment.end_index)] for segment in layout.text_anchor.text_segments)"
   ]
  },
  {
   "cell_type": "code",
   "execution_count": 15,
   "metadata": {},
   "outputs": [],
   "source": [
    "def get_file_paths(dir_name: str) -> list:\n",
    "    file_paths = []\n",
    "    for file_name in os.listdir(dir_name):\n",
    "        if os.path.isfile(os.path.join(dir_name, file_name)):\n",
    "            file_path = os.path.join(dir_name, file_name)\n",
    "            file_paths.append(file_path)\n",
    "    return file_paths"
   ]
  },
  {
   "cell_type": "code",
   "execution_count": 16,
   "metadata": {},
   "outputs": [],
   "source": [
    "def ocr_docai(file_path: str) -> dict:\n",
    "    pages_map = {}\n",
    "\n",
    "    with open(file_path, 'rb') as f:\n",
    "        pdf = f.read()\n",
    "        raw_document = documentai.RawDocument(content=pdf, mime_type='application/pdf')\n",
    "        request = documentai.ProcessRequest(name=DOCAI_PROCESSOR_NAME, raw_document=raw_document)\n",
    "        response = docai_client.process_document(request=request)\n",
    "        text = response.document.text\n",
    "        file_name = file_path.split('/')[-1]\n",
    "        page_number = int(file_name.split('.')[0].split('-')[-1])\n",
    "        for page in response.document.pages:\n",
    "            page_text = []\n",
    "            for paragraph in page.paragraphs:\n",
    "                paragraph_text = layout_to_text(paragraph.layout, text)\n",
    "                page_text.append(paragraph_text)\n",
    "            pages_map[page_number] = ''.join(page_text)\n",
    "            page_number += 1\n",
    "    return pages_map"
   ]
  },
  {
   "cell_type": "code",
   "execution_count": 17,
   "metadata": {},
   "outputs": [
    {
     "name": "stderr",
     "output_type": "stream",
     "text": [
      "73it [00:47,  1.54it/s]"
     ]
    },
    {
     "name": "stdout",
     "output_type": "stream",
     "text": [
      "CPU times: user 3.37 s, sys: 4.17 s, total: 7.55 s\n",
      "Wall time: 47.4 s\n"
     ]
    },
    {
     "name": "stderr",
     "output_type": "stream",
     "text": [
      "\n"
     ]
    }
   ],
   "source": [
    "%%time \n",
    "\n",
    "input_dir = f'./DATA/INPUT/{FILE_NAME}/PARTS/'\n",
    "file_paths = get_file_paths(input_dir)\n",
    "    \n",
    "pages_map_list = []\n",
    "with ThreadPoolExecutor(max_workers=os.cpu_count()) as executor:  \n",
    "    pages_map_list = list(tqdm(executor.map(ocr_docai, file_paths)))\n",
    "\n",
    "merged_dict = {k: v for d in pages_map_list for k, v in d.items()}   \n",
    "sorted_pages_map = dict(sorted(merged_dict.items()))\n",
    "\n",
    "pages = []\n",
    "for _, page_text in sorted_pages_map.items():\n",
    "    pages.append(page_text)"
   ]
  },
  {
   "cell_type": "markdown",
   "metadata": {},
   "source": [
    "Save concatenated pages as txt for later use (if needed)"
   ]
  },
  {
   "cell_type": "code",
   "execution_count": 18,
   "metadata": {},
   "outputs": [],
   "source": [
    "extracted_pages = ''.join(pages)\n",
    "os.makedirs(f'{LOCAL_OUTPUT_DIR}/{FILE_NAME}/OAI/', exist_ok=True)\n",
    "with open(f'{LOCAL_OUTPUT_DIR}/{FILE_NAME}/OAI/{FILE_NAME}.txt', 'w') as out:\n",
    "    out.write(extracted_pages)"
   ]
  },
  {
   "cell_type": "code",
   "execution_count": 19,
   "metadata": {},
   "outputs": [],
   "source": [
    "def get_total_tokens(contexts: list) -> int:\n",
    "    total_tokens = 0\n",
    "    for context in contexts:\n",
    "        n_tokens = len(encoder.encode(context))\n",
    "        total_tokens += n_tokens \n",
    "    return total_tokens"
   ]
  },
  {
   "cell_type": "code",
   "execution_count": 20,
   "metadata": {},
   "outputs": [
    {
     "name": "stderr",
     "output_type": "stream",
     "text": [
      "Total tokens in the input doc = 414088\n"
     ]
    }
   ],
   "source": [
    "total_tokens = get_total_tokens([extracted_pages])\n",
    "logger.info(f'Total tokens in the input doc = {total_tokens}')"
   ]
  },
  {
   "cell_type": "code",
   "execution_count": 21,
   "metadata": {},
   "outputs": [],
   "source": [
    "def get_max_tokens_per_page(contexts: list) -> list:\n",
    "    max_tokens_per_page = 0\n",
    "    for context in contexts:\n",
    "        n_tokens = len(encoder.encode(context))\n",
    "        if n_tokens > max_tokens_per_page:\n",
    "            max_tokens_per_page = n_tokens\n",
    "    return max_tokens_per_page"
   ]
  },
  {
   "cell_type": "markdown",
   "metadata": {},
   "source": [
    "#### Map Reduce 1"
   ]
  },
  {
   "cell_type": "code",
   "execution_count": 22,
   "metadata": {},
   "outputs": [],
   "source": [
    "model = ChatOpenAI(openai_api_key=api_key, \n",
    "                   model_name=MODEL_NAME, \n",
    "                   temperature=0.0, \n",
    "                   max_tokens=256)"
   ]
  },
  {
   "cell_type": "code",
   "execution_count": 26,
   "metadata": {},
   "outputs": [],
   "source": [
    "def get_summary(chunk: str) -> str:\n",
    "    template = \"You are a Financial Regulations & Derivatives Expert\"\n",
    "    system_message = SystemMessagePromptTemplate.from_template(template)\n",
    "\n",
    "    template = \"Summarize the following information into five brief sentences in English, capturing the essential details.\\n\\n{chunk}\"\n",
    "    human_message = HumanMessagePromptTemplate.from_template(template)\n",
    "\n",
    "    chat_prompt = ChatPromptTemplate.from_messages([system_message, human_message])\n",
    "    prompt = chat_prompt.format_prompt(chunk=chunk).to_messages()\n",
    "\n",
    "    response = model(prompt)\n",
    "    return response.content"
   ]
  },
  {
   "cell_type": "code",
   "execution_count": 27,
   "metadata": {},
   "outputs": [
    {
     "name": "stdout",
     "output_type": "stream",
     "text": [
      "CPU times: user 5 µs, sys: 1 µs, total: 6 µs\n",
      "Wall time: 10 µs\n"
     ]
    }
   ],
   "source": [
    "%%time \n",
    "\n",
    "MAX_OUTPUT_TOKENS = 256\n",
    "CONTEXTS_PER_CALL = 5  # process 5 pages per API call\n",
    "\n",
    "\n",
    "def reduce(contexts: list) -> list:\n",
    "    partitions = []\n",
    "    max_input_tokens = CONTEXT_LENGTH - MAX_OUTPUT_TOKENS\n",
    "    logger.info(f'Max input tokens allowed per API call = {max_input_tokens}')\n",
    "    max_tokens_per_page = get_max_tokens_per_page(contexts)\n",
    "    logger.info(f'Max tokens per page = {max_tokens_per_page}')\n",
    "    logger.info(f'Processing {CONTEXTS_PER_CALL} pages per API call')\n",
    "    \n",
    "    for i in range(0, len(contexts), CONTEXTS_PER_CALL):\n",
    "        partitions.append(contexts[i: i+CONTEXTS_PER_CALL])\n",
    "\n",
    "    chunks = []\n",
    "    for partition in partitions:\n",
    "        chunks.append('\\n'.join(partition))\n",
    "\n",
    "    reduced_contexts = []\n",
    "\n",
    "    # max_workers can result in running over quota limits for invocation | current limit for text bison is 60/min\n",
    "    # for our experiments, we set max_workers=4 cores without any limit breach\n",
    "    with ThreadPoolExecutor(max_workers=4) as executor:  \n",
    "        reduced_contexts = list(tqdm(executor.map(get_summary, chunks),  total=len(chunks)))\n",
    "    return reduced_contexts\n"
   ]
  },
  {
   "cell_type": "code",
   "execution_count": 28,
   "metadata": {},
   "outputs": [
    {
     "name": "stderr",
     "output_type": "stream",
     "text": [
      "Number of pages to process = 1089\n",
      "Max input tokens allowed per API call = 7940\n",
      "Max tokens per page = 720\n",
      "Processing 5 pages per API call\n",
      " 65%|██████▍   | 141/218 [10:20<06:12,  4.83s/it]Retrying langchain.chat_models.openai.ChatOpenAI.completion_with_retry.<locals>._completion_with_retry in 4.0 seconds as it raised ServiceUnavailableError: The server is overloaded or not ready yet..\n",
      "100%|██████████| 218/218 [16:58<00:00,  4.67s/it]\n",
      "Number of generated summaries = 218\n",
      "Total number of tokens in generated summaries = 45598\n"
     ]
    }
   ],
   "source": [
    "logger.info(f'Number of pages to process = {len(pages)}')\n",
    "summaries = reduce(pages)\n",
    "logger.info(f'Number of generated summaries = {len(summaries)}')\n",
    "n_tokens = get_total_tokens(summaries)\n",
    "logger.info(f'Total number of tokens in generated summaries = {n_tokens}')"
   ]
  },
  {
   "cell_type": "code",
   "execution_count": 29,
   "metadata": {},
   "outputs": [
    {
     "name": "stderr",
     "output_type": "stream",
     "text": [
      "Banking organizations with over $100 billion in total consolidated assets are subject to a standardized approach capital conservation buffer requirement. This requirement is calculated as the sum of the organization's stress capital buffer requirement, applicable countercyclical capital buffer requirement, and applicable GSIB surcharge. The Board is proposing to amend its capital plan rule to take into account capital ratios calculated under the expanded risk-based approach, in addition to the standardized approach. The proposal would also revise the calculation of the stress capital buffer requirement for large banking organizations. The Board is not proposing changes to the targeted severity of the stress capital buffer requirement, as it aims to better reflect the risk of banking organizations' exposures in the calculation of risk-weighted assets.\n",
      "\n",
      "----------------------------------------------------------------------------------------------------\n",
      "1. Evaluating defaulted residential mortgage exposures at the obligor level can be challenging for banks due to difficulties in collecting information on the payment status of other obligations of individual borrowers. However, for other real estate exposures like commercial real estate, evaluating default at the obligor level is more appropriate and less challenging.\n",
      "2. A defaulted real estate exposure that is a residential mortgage exposure includes an exposure that is 90 days or more past due, where the bank has taken a partial charge-off, or where the bank agreed to a distressed restructuring. This does not include a loan modified under the U.S. Treasury's Home Affordable Mortgage Program.\n",
      "3. To determine if a non-residential mortgage exposure is a defaulted real estate exposure, banks would apply the same criteria used to determine if a non-retail exposure is a defaulted exposure. Banks are expected to conduct ongoing credit reviews of relevant obligors.\n",
      "4. A defaulted real estate exposure that is a residential mortgage exposure not dependent on the cash flows generated by the real estate would receive a risk weight of 100 percent, unless a portion of the real estate exposure is guaranteed under section §__.120 of the proposal. A residential mortgage guaranteed by the federal government will be risk-weighted at 20 percent under the proposal.\n",
      "5. Any other defaulted\n",
      "----------------------------------------------------------------------------------------------------\n",
      "1. The SA-CCR final rule requires banking organizations to apply a supervisory delta adjustment to account for the sensitivity of a derivative contract to the underlying primary risk factor. For a derivative contract that is a CDO tranche, the supervisory delta adjustment is calculated using a specific formula. The sign of the supervisory delta adjustment for CDO tranches is positive if the CDO tranches were used to purchase credit protection and negative if they were used to sell credit protection.\n",
      "2. The supervisory delta adjustment for option contracts is calculated based on the Black-Scholes formulas for delta sensitivity of European call and put option contracts. The SA-CCR final rule uses modified Black-Scholes formulas that are based on a shifted lognormal probability distribution, which allows negative values of the underlying instrument or risk factor.\n",
      "3. The SA-CCR final rule sets λ to zero for all asset classes except the interest rate asset class, which has exhibited negative values in some currencies in recent years. For the interest rate asset class, a banking organization must set the value of λ for a given currency equal to the greater of the negative of the lowest value of the strike prices and the current values of the interest rate underlying all interest rate options in a given currency that the banking organization has with\n"
     ]
    }
   ],
   "source": [
    "logger.info(summaries[5])\n",
    "logger.info('-' * 100)\n",
    "logger.info(summaries[15])\n",
    "logger.info('-' * 100)\n",
    "logger.info(summaries[20])"
   ]
  },
  {
   "cell_type": "markdown",
   "metadata": {},
   "source": [
    "##### Persist internediate summaries (Map Reduce 1) to local disk"
   ]
  },
  {
   "cell_type": "code",
   "execution_count": 30,
   "metadata": {},
   "outputs": [
    {
     "name": "stderr",
     "output_type": "stream",
     "text": [
      "Total number of summaries = 218\n"
     ]
    }
   ],
   "source": [
    "logger.info(f'Total number of summaries = {len(summaries)}')"
   ]
  },
  {
   "cell_type": "code",
   "execution_count": 31,
   "metadata": {},
   "outputs": [],
   "source": [
    "for i, summary in enumerate(summaries):\n",
    "    os.makedirs(f'{LOCAL_OUTPUT_DIR}/{FILE_NAME}/OAI/MAP_REDUCE_1/', exist_ok=True)\n",
    "    with open(f'{LOCAL_OUTPUT_DIR}/{FILE_NAME}/OAI/MAP_REDUCE_1/summary-{i}.txt', 'w') as f:\n",
    "        f.write(summary)"
   ]
  },
  {
   "cell_type": "markdown",
   "metadata": {},
   "source": [
    "#### Map Reduce 2"
   ]
  },
  {
   "cell_type": "code",
   "execution_count": 47,
   "metadata": {},
   "outputs": [],
   "source": [
    "model = ChatOpenAI(openai_api_key=api_key, \n",
    "                   model_name=MODEL_NAME, \n",
    "                   temperature=0.0, \n",
    "                   max_tokens=2048)\n",
    "\n",
    "def get_summary(context: str) -> str:\n",
    "    template = \"You are a Financial Regulations & Derivatives Expert\"\n",
    "    system_message = SystemMessagePromptTemplate.from_template(template)\n",
    "\n",
    "    template = \"\"\"\"For the context below, create a consolidated refined short summary with the most important pointers only.\\n\\n{context}\\n\\nDo not repeat pointers. Breakdown the summary into SECTIONS. Make it crisp and concise.\"\"\"\n",
    "    human_message = HumanMessagePromptTemplate.from_template(template)\n",
    "\n",
    "    chat_prompt = ChatPromptTemplate.from_messages([system_message, human_message])\n",
    "    prompt = chat_prompt.format_prompt(context=context).to_messages()\n",
    "\n",
    "    response = model(prompt)\n",
    "    return response.content"
   ]
  },
  {
   "cell_type": "code",
   "execution_count": 50,
   "metadata": {},
   "outputs": [
    {
     "name": "stdout",
     "output_type": "stream",
     "text": [
      "CPU times: user 5 µs, sys: 2 µs, total: 7 µs\n",
      "Wall time: 10 µs\n"
     ]
    }
   ],
   "source": [
    "%%time \n",
    "\n",
    "CONTEXTS_PER_CALL = 25  # process 50 summaries per API call\n",
    "\n",
    "def reduce(contexts: list) -> list:\n",
    "    partitions = []\n",
    "    max_input_tokens = CONTEXT_LENGTH - MAX_OUTPUT_TOKENS\n",
    "    logger.info(f'Max input tokens allowed per API call = {max_input_tokens}')\n",
    "    max_tokens_per_page = get_max_tokens_per_page(contexts)\n",
    "    logger.info(f'Max tokens per page = {max_tokens_per_page}')\n",
    "    logger.info(f'Processing {CONTEXTS_PER_CALL} pages per API call')\n",
    "    \n",
    "    for i in range(0, len(contexts), CONTEXTS_PER_CALL):\n",
    "        partitions.append(contexts[i: i+CONTEXTS_PER_CALL])\n",
    "\n",
    "    chunks = []\n",
    "    for partition in partitions:\n",
    "        chunks.append('\\n'.join(partition))\n",
    "    logger.info(f'Total number of chunks of summaries = {len(chunks)}')\n",
    "\n",
    "    reduced_contexts = []\n",
    "    for chunk in tqdm(chunks):\n",
    "        summary = get_summary(chunk)\n",
    "        reduced_contexts.append(summary)\n",
    "        time.sleep(1)\n",
    "    return reduced_contexts"
   ]
  },
  {
   "cell_type": "code",
   "execution_count": 51,
   "metadata": {},
   "outputs": [
    {
     "name": "stderr",
     "output_type": "stream",
     "text": [
      "Max input tokens allowed per API call = 7940\n",
      "Max tokens per page = 256\n",
      "Processing 25 pages per API call\n",
      "Total number of chunks of summaries = 9\n",
      "100%|██████████| 9/9 [09:30<00:00, 63.44s/it]\n"
     ]
    }
   ],
   "source": [
    "reduced_summaries = reduce(summaries)"
   ]
  },
  {
   "cell_type": "code",
   "execution_count": 52,
   "metadata": {},
   "outputs": [
    {
     "name": "stderr",
     "output_type": "stream",
     "text": [
      "**Section 1: Proposed Rule Change**\n",
      "The Office of the Comptroller of the Currency, the Board of Governors of the Federal Reserve System, and the Federal Deposit Insurance Corporation have proposed a rule change to revise capital requirements for large banking organizations and those with significant trading activity. The changes aim to improve risk-based capital requirement calculations, reduce complexity, enhance consistency, and facilitate more effective supervisory and market assessments of capital adequacy. The revisions include replacing current requirements that use banking organizations' internal models for credit risk and operational risk with standardized approaches.\n",
      "\n",
      "**Section 2: Basel Committee Reforms**\n",
      "The Basel Committee on Banking Supervision has proposed reforms to strengthen risk-based capital requirements for large banking organizations. The changes would align with international capital standards issued by the Basel Committee, known as the Basel III reforms, but would also reflect specific characteristics of U.S. markets and legal requirements. The proposal would eliminate the use of banking organizations' internal models to set regulatory capital requirements, replacing them with a simpler and more consistent standardized framework.\n",
      "\n",
      "**Section 3: GSIB Surcharge Calculation and Systemic Risk Report**\n",
      "The Board is proposing a revision to the GSIB surcharge calculation and systemic risk report for large banking organizations. The proposal would eliminate the use of internal models for setting credit and operational risk capital requirements for banking organizations subject to Category I or II capital standards. Instead, standardized requirements would be used, improving consistency, transparency, and efficiency.\n",
      "\n",
      "**Section 4: Countercyclical Capital Buffer and Leverage Ratio Requirement**\n",
      "The proposal aims to extend the application of the countercyclical capital buffer to banking organizations subject to Category IV capital standards. This tool increases capital requirements for large banks during periods of elevated risk, enhancing the resilience of the financial system. The proposal also expands the application of the supplementary leverage ratio requirement to banking organizations subject to Category IV capital standards.\n",
      "\n",
      "**Section 5: Capital Conservation Buffer Requirement**\n",
      "Banking organizations with over $100 billion in total consolidated assets are subject to a standardized approach capital conservation buffer requirement. The Board is proposing to amend its capital plan rule to take into account capital ratios calculated under the expanded risk-based approach, in addition to the standardized approach.\n",
      "\n",
      "**Section 6: Credit Risk Exposure**\n",
      "The proposal suggests that banking organizations should maintain capital in line with the level and nature of their risk exposure. It proposes replacing the use of internal models for setting regulatory capital requirements for credit risk with a new expanded risk-based approach. This approach would apply the same risk-weight treatment for on-balance sheet exposures, including those to sovereigns, certain supranational entities, and multilateral development banks.\n",
      "\n",
      "**Section 7: Retail Exposures**\n",
      "The proposal aims to increase the credit risk-sensitivity of capital requirements for retail exposures by assigning risk weights that vary based on product type and portfolio diversification. The new definition of retail exposure includes exposure to individuals or small to medium-sized entities (SMEs), benefiting smaller companies with characteristics more akin to individuals than larger corporations.\n",
      "\n",
      "**Section 8: Corporate Exposures**\n",
      "Corporate exposure under the proposal is an exposure to a company that does not fall under any other exposure category. The proposal differentiates the risk weights of corporate exposures based on factors such as credit risk, investment quality, level of subordination, and the nature of the lending arrangement.\n",
      "\n",
      "**Section 9: Project Finance Exposures**\n",
      "The proposal defines a project finance exposure as a corporate exposure where the banking organization relies on the revenues generated by a single project for repayment and security. The primary determinant of credit risk is the variability of the project's cash flows.\n",
      "\n",
      "**Section 10: Collateral and Credit Risk Mitigants**\n",
      "Banks can reduce credit risk and associated capital requirements by using collateral and other credit risk mitigants. These mitigants must be of high quality to effectively reduce credit risk. The proposal would eliminate the use of models for credit risk under the current capital rule and replace them with standardized approaches.\n",
      "\n",
      "**Section 11: Haircuts for Investment Grade Senior Securitization Exposures**\n",
      "The proposal outlines term-based haircuts for investment grade senior securitization exposures with a risk weight of less than 100 percent. Other securitization exposures would receive a 30 percent market price volatility haircut. The proposal also includes a framework for minimum haircuts on non-centrally cleared securities financing transactions to reflect the risk exposure of banking organizations to non-bank financial entities.\n",
      "----------------------------------------------------------------------------------------------------\n",
      "**Section 1: In-Scope Transactions and Minimum Haircut Floors**\n",
      "The proposal suggests excluding certain in-scope transactions from the minimum haircut floors due to their lower credit and liquidity risks. It establishes minimum haircut floors for these transactions based on historical price volatilities and existing market conventions. If a banking organization's portfolio doesn't meet the minimum haircut floor, it cannot recognize the risk-mitigating benefits of the collateral received.\n",
      "\n",
      "**Section 2: New Treatments and Modifications**\n",
      "The proposal introduces new treatments for default credit derivatives, derivative contracts without credit enhancement, overlapping exposures, and non-performing loan securitizations. It also modifies treatments for certain senior securitization exposures and credit-enhancing interest only strips. \n",
      "\n",
      "**Section 3: Securitization Exposures**\n",
      "The proposal introduces a risk weight floor of 15 percent for securitization exposures that are not resecuritization exposures. It also proposes a minimum risk-weight floor of 100 percent for resecuritization exposures and Non-Performing Loan (NPL) securitization exposures. \n",
      "\n",
      "**Section 4: Equity Exposures**\n",
      "The proposal maintains the current capital rule's methods for calculating the adjusted carrying value for equity exposures, with some modifications. It introduces a risk-weighted asset amount for an equity exposure and revises the risk weights applicable to other types of equity exposures. \n",
      "\n",
      "**Section 5: Investment Fund Exposures**\n",
      "The proposal requires banking organizations to calculate a risk-weighted asset amount for each exposure held by an investment fund. If the organization cannot use the full look-through approach, it must use the alternative modified look-through approach. \n",
      "\n",
      "**Section 6: Operational Risk**\n",
      "The proposal introduces a standardized approach for operational risk, replacing the Advanced Measurement Approaches (AMA). The new approach calculates operational risk capital requirements based on a banking organization's business indicator component and internal loss multiplier. \n",
      "\n",
      "**Section 7: Market Risk**\n",
      "The proposal introduces a risk-sensitive standardized methodology for calculating risk-weighted assets for market risk and a new models-based methodology. It also expands the types of positions that would be covered by market risk, including certain equity positions in an investment fund, net short risk positions, certain publicly traded equity positions, embedded derivatives on instruments issued by the banking organization, and certain positions associated with internal risk transfer. \n",
      "\n",
      "**Section 8: Internal Risk Transfers**\n",
      "The proposal defines internal risk transfers and establishes a set of requirements for a banking organization to recognize certain types of internal risk transfers in risk-based capital requirements. It also considers modifying the criteria for including external CVA hedges in the scope of market risk covered position.\n",
      "----------------------------------------------------------------------------------------------------\n",
      "Section 1: Internal Credit Valuation Adjustment (CVA) Risk Transfers\n",
      "The proposal outlines capital treatment for internal CVA risk transfers between a CVA desk and a trading desk. It mandates a dedicated CVA desk for managing internal risk transfers and record-keeping of each internal derivative transaction. If the internal risk transfer involves curvature risk, default risk, or the residual risk add-on, an external transaction with a third party is required.\n",
      "\n",
      "Section 2: Market Risk Covered Positions\n",
      "The proposal expands requirements for banking organizations to identify market risk covered positions, including annual updates and exclusions. It introduces a formal framework for re-designating a position after initial designation, requiring senior management approval.\n",
      "\n",
      "Section 3: Trading Desk Definition and Requirements\n",
      "The proposal introduces the concept of a trading desk, a unit that manages and operates trading activities. It requires clearly defined trading and hedging strategies, approved by senior management, and specifies the expected holding period, market risk, and risk acceptance level.\n",
      "\n",
      "Section 4: Market Risk Capital Framework\n",
      "The proposed market risk capital framework applies to all banking organizations. It requires clear policies for managing market risk, daily monitoring of position limits, and quarterly stress tests at both entity-wide and trading-desk levels. It also enhances control, oversight, and validation requirements.\n",
      "\n",
      "Section 5: Documentation and Operational Requirements\n",
      "The proposal requires banking organizations to document all aspects of their market risk management, including internal risk transfers and re-designations of positions. It allows the use of an internal model to calculate risk-based capital requirements, provided they have approval from their primary Federal supervisor.\n",
      "\n",
      "Section 6: Models-Based Measure for Market Risk\n",
      "The proposal introduces a models-based measure for market risk, limiting its use to trading desks that can accurately capture the risks of market risk covered positions in internal models. It replaces the VaR-based measure with an expected shortfall measure to capture tail risk and varying liquidity horizons.\n",
      "\n",
      "Section 7: Re-Designation and Capital Add-On Requirement\n",
      "The proposal requires banking organizations to have clearly defined policies for identifying market risk covered positions and for determining if a position needs to be re-designated. A capital add-on requirement is introduced as a penalty for any re-designation, unless approved by the primary Federal supervisor.\n",
      "\n",
      "Section 8: Risk Factor Sensitivities\n",
      "The proposal requires banking organizations to calculate the sensitivity of a market risk covered position to each of the proposed risk factors for delta, vega, and curvature. These calculations estimate how much a position's value might change as a result of a specified change in the risk factor.\n",
      "\n",
      "Section 9: Default Risk Capital Requirement\n",
      "The proposal requires banking organizations to calculate the total standardized default risk capital requirement as the sum of each default risk category level capital requirements, without recognizing any diversification benefits across different types of default risk categories.\n",
      "\n",
      "Section 10: Residual Risk Add-On\n",
      "The proposal requires banking organizations to calculate a residual risk add-on for market risk covered positions with exotic exposure and other residual risks. Certain positions can be excluded from the residual risk add-on calculation, including those listed on an exchange, eligible to be cleared by a CCP or QCCP, or simple options.\n",
      "\n",
      "Section 11: Internal Models Approach\n",
      "The internal models approach includes a standardized default risk capital requirement. To calculate the overall capital required, a banking organization would add the standardized default risk capital requirement to the greater of the sum of the capital requirements for modellable and non-modellable risk factors as of the most recent reporting date, or the sum of the average capital requirements for non-modellable risk factors over the prior 60 business days.\n",
      "----------------------------------------------------------------------------------------------------\n"
     ]
    }
   ],
   "source": [
    "logger.info(reduced_summaries[0])\n",
    "logger.info('-' * 100)\n",
    "logger.info(reduced_summaries[1])\n",
    "logger.info('-' * 100)\n",
    "logger.info(reduced_summaries[2])\n",
    "logger.info('-' * 100)"
   ]
  },
  {
   "cell_type": "markdown",
   "metadata": {},
   "source": [
    "##### Persist internediate summaries (Map Reduce 2) to local disk"
   ]
  },
  {
   "cell_type": "code",
   "execution_count": 53,
   "metadata": {},
   "outputs": [
    {
     "name": "stderr",
     "output_type": "stream",
     "text": [
      "Total number of summaries after map reduce 2 = 9\n"
     ]
    }
   ],
   "source": [
    "logger.info(f'Total number of summaries after map reduce 2 = {len(reduced_summaries)}')"
   ]
  },
  {
   "cell_type": "code",
   "execution_count": 54,
   "metadata": {},
   "outputs": [],
   "source": [
    "for i, summary in enumerate(reduced_summaries):\n",
    "    os.makedirs(f'{LOCAL_OUTPUT_DIR}/{FILE_NAME}/OAI/MAP_REDUCE_2/', exist_ok=True)\n",
    "    with open(f'{LOCAL_OUTPUT_DIR}/{FILE_NAME}/OAI/MAP_REDUCE_2/summary-{i}.txt', 'w') as f:\n",
    "        f.write(summary)"
   ]
  },
  {
   "cell_type": "code",
   "execution_count": 55,
   "metadata": {},
   "outputs": [
    {
     "name": "stderr",
     "output_type": "stream",
     "text": [
      "6530\n"
     ]
    }
   ],
   "source": [
    "consolidated_summaries = '\\n'.join(reduced_summaries)\n",
    "logger.info(get_total_tokens([consolidated_summaries]))"
   ]
  },
  {
   "cell_type": "code",
   "execution_count": 56,
   "metadata": {},
   "outputs": [
    {
     "name": "stderr",
     "output_type": "stream",
     "text": [
      "**Section 1: Proposed Rule Change**\n",
      "The Office of the Comptroller of the Currency, the Board of Governors of the Federal Reserve System, and the Federal Deposit Insurance Corporation have proposed a rule change to revise capital requirements for large banking organizations and those with significant trading activity. The changes aim to improve risk-based capital requirement calculations, reduce complexity, enhance consistency, and facilitate more effective supervisory and market assessments of capital adequacy. The revisions include replacing current requirements that use banking organizations' internal models for credit risk and operational risk with standardized approaches.\n",
      "\n",
      "**Section 2: Basel Committee Reforms**\n",
      "The Basel Committee on Banking Supervision has proposed reforms to strengthen risk-based capital requirements for large banking organizations. The changes would align with international capital standards issued by the Basel Committee, known as the Basel III reforms, but would also reflect specific characteristics of U.S. markets and legal requirements. The proposal would eliminate the use of banking organizations' internal models to set regulatory capital requirements, replacing them with a simpler and more consistent standardized framework.\n",
      "\n",
      "**Section 3: GSIB Surcharge Calculation and Systemic Risk Report**\n",
      "The Board is proposing a revision to the GSIB surcharge calculation and systemic risk report for large banking organizations. The proposal would eliminate the use of internal models for setting credit and operational risk capital requirements for banking organizations subject to Category I or II capital standards. Instead, standardized requirements would be used, improving consistency, transparency, and efficiency.\n",
      "\n",
      "**Section 4: Countercyclical Capital Buffer and Leverage Ratio Requirement**\n",
      "The proposal aims to extend the application of the countercyclical capital buffer to banking organizations subject to Category IV capital standards. This tool increases capital requirements for large banks during periods of elevated risk, enhancing the resilience of the financial system. The proposal also expands the application of the supplementary leverage ratio requirement to banking organizations subject to Category IV capital standards.\n",
      "\n",
      "**Section 5: Capital Conservation Buffer Requirement**\n",
      "Banking organizations with over $100 billion in total consolidated assets are subject to a standardized approach capital conservation buffer requirement. The Board is proposing to amend its capital plan rule to take into account capital ratios calculated under the expanded risk-based approach, in addition to the standardized approach.\n",
      "\n",
      "**Section 6: Credit Risk Exposure**\n",
      "The proposal suggests that banking organizations should maintain capital in line with the level and nature of their risk exposure. It proposes replacing the use of internal models for setting regulatory capital requirements for credit risk with a new expanded risk-based approach. This approach would apply the same risk-weight treatment for on-balance sheet exposures, including those to sovereigns, certain supranational entities, and multilateral development banks.\n",
      "\n",
      "**Section 7: Retail Exposures**\n",
      "The proposal aims to increase the credit risk-sensitivity of capital requirements for retail exposures by assigning risk weights that vary based on product type and portfolio diversification. The new definition of retail exposure includes exposure to individuals or small to medium-sized entities (SMEs), benefiting smaller companies with characteristics more akin to individuals than larger corporations.\n",
      "\n",
      "**Section 8: Corporate Exposures**\n",
      "Corporate exposure under the proposal is an exposure to a company that does not fall under any other exposure category. The proposal differentiates the risk weights of corporate exposures based on factors such as credit risk, investment quality, level of subordination, and the nature of the lending arrangement.\n",
      "\n",
      "**Section 9: Project Finance Exposures**\n",
      "The proposal defines a project finance exposure as a corporate exposure where the banking organization relies on the revenues generated by a single project for repayment and security. The primary determinant of credit risk is the variability of the project's cash flows.\n",
      "\n",
      "**Section 10: Collateral and Credit Risk Mitigants**\n",
      "Banks can reduce credit risk and associated capital requirements by using collateral and other credit risk mitigants. These mitigants must be of high quality to effectively reduce credit risk. The proposal would eliminate the use of models for credit risk under the current capital rule and replace them with standardized approaches.\n",
      "\n",
      "**Section 11: Haircuts for Investment Grade Senior Securitization Exposures**\n",
      "The proposal outlines term-based haircuts for investment grade senior securitization exposures with a risk weight of less than 100 percent. Other securitization exposures would receive a 30 percent market price volatility haircut. The proposal also includes a framework for minimum haircuts on non-centrally cleared securities financing transactions to reflect the risk exposure of banking organizations to non-bank financial entities.\n",
      "**Section 1: In-Scope Transactions and Minimum Haircut Floors**\n",
      "The proposal suggests excluding certain in-scope transactions from the minimum haircut floors due to their lower credit and liquidity risks. It establishes minimum haircut floors for these transactions based on historical price volatilities and existing market conventions. If a banking organization's portfolio doesn't meet the minimum haircut floor, it cannot recognize the risk-mitigating benefits of the collateral received.\n",
      "\n",
      "**Section 2: New Treatments and Modifications**\n",
      "The proposal introduces new treatments for default credit derivatives, derivative contracts without credit enhancement, overlapping exposures, and non-performing loan securitizations. It also modifies treatments for certain senior securitization exposures and credit-enhancing interest only strips. \n",
      "\n",
      "**Section 3: Securitization Exposures**\n",
      "The proposal introduces a risk weight floor of 15 percent for securitization exposures that are not resecuritization exposures. It also proposes a minimum risk-weight floor of 100 percent for resecuritization exposures and Non-Performing Loan (NPL) securitization exposures. \n",
      "\n",
      "**Section 4: Equity Exposures**\n",
      "The proposal maintains the current capital rule's methods for calculating the adjusted carrying value for equity exposures, with some modifications. It introduces a risk-weighted asset amount for an equity exposure and revises the risk weights applicable to other types of equity exposures. \n",
      "\n",
      "**Section 5: Investment Fund Exposures**\n",
      "The proposal requires banking organizations to calculate a risk-weighted asset amount for each exposure held by an investment fund. If the organization cannot use the full look-through approach, it must use the alternative modified look-through approach. \n",
      "\n",
      "**Section 6: Operational Risk**\n",
      "The proposal introduces a standardized approach for operational risk, replacing the Advanced Measurement Approaches (AMA). The new approach calculates operational risk capital requirements based on a banking organization's business indicator component and internal loss multiplier. \n",
      "\n",
      "**Section 7: Market Risk**\n",
      "The proposal introduces a risk-sensitive standardized methodology for calculating risk-weighted assets for market risk and a new models-based methodology. It also expands the types of positions that would be covered by market risk, including certain equity positions in an investment fund, net short risk positions, certain publicly traded equity positions, embedded derivatives on instruments issued by the banking organization, and certain positions associated with internal risk transfer. \n",
      "\n",
      "**Section 8: Internal Risk Transfers**\n",
      "The proposal defines internal risk transfers and establishes a set of requirements for a banking organization to recognize certain types of internal risk transfers in risk-based capital requirements. It also considers modifying the criteria for including external CVA hedges in the scope of market risk covered position.\n",
      "Section 1: Internal Credit Valuation Adjustment (CVA) Risk Transfers\n",
      "The proposal outlines capital treatment for internal CVA risk transfers between a CVA desk and a trading desk. It mandates a dedicated CVA desk for managing internal risk transfers and record-keeping of each internal derivative transaction. If the internal risk transfer involves curvature risk, default risk, or the residual risk add-on, an external transaction with a third party is required.\n",
      "\n",
      "Section 2: Market Risk Covered Positions\n",
      "The proposal expands requirements for banking organizations to identify market risk covered positions, including annual updates and exclusions. It introduces a formal framework for re-designating a position after initial designation, requiring senior management approval.\n",
      "\n",
      "Section 3: Trading Desk Definition and Requirements\n",
      "The proposal introduces the concept of a trading desk, a unit that manages and operates trading activities. It requires clearly defined trading and hedging strategies, approved by senior management, and specifies the expected holding period, market risk, and risk acceptance level.\n",
      "\n",
      "Section 4: Market Risk Capital Framework\n",
      "The proposed market risk capital framework applies to all banking organizations. It requires clear policies for managing market risk, daily monitoring of position limits, and quarterly stress tests at both entity-wide and trading-desk levels. It also enhances control, oversight, and validation requirements.\n",
      "\n",
      "Section 5: Documentation and Operational Requirements\n",
      "The proposal requires banking organizations to document all aspects of their market risk management, including internal risk transfers and re-designations of positions. It allows the use of an internal model to calculate risk-based capital requirements, provided they have approval from their primary Federal supervisor.\n",
      "\n",
      "Section 6: Models-Based Measure for Market Risk\n",
      "The proposal introduces a models-based measure for market risk, limiting its use to trading desks that can accurately capture the risks of market risk covered positions in internal models. It replaces the VaR-based measure with an expected shortfall measure to capture tail risk and varying liquidity horizons.\n",
      "\n",
      "Section 7: Re-Designation and Capital Add-On Requirement\n",
      "The proposal requires banking organizations to have clearly defined policies for identifying market risk covered positions and for determining if a position needs to be re-designated. A capital add-on requirement is introduced as a penalty for any re-designation, unless approved by the primary Federal supervisor.\n",
      "\n",
      "Section 8: Risk Factor Sensitivities\n",
      "The proposal requires banking organizations to calculate the sensitivity of a market risk covered position to each of the proposed risk factors for delta, vega, and curvature. These calculations estimate how much a position's value might change as a result of a specified change in the risk factor.\n",
      "\n",
      "Section 9: Default Risk Capital Requirement\n",
      "The proposal requires banking organizations to calculate the total standardized default risk capital requirement as the sum of each default risk category level capital requirements, without recognizing any diversification benefits across different types of default risk categories.\n",
      "\n",
      "Section 10: Residual Risk Add-On\n",
      "The proposal requires banking organizations to calculate a residual risk add-on for market risk covered positions with exotic exposure and other residual risks. Certain positions can be excluded from the residual risk add-on calculation, including those listed on an exchange, eligible to be cleared by a CCP or QCCP, or simple options.\n",
      "\n",
      "Section 11: Internal Models Approach\n",
      "The internal models approach includes a standardized default risk capital requirement. To calculate the overall capital required, a banking organization would add the standardized default risk capital requirement to the greater of the sum of the capital requirements for modellable and non-modellable risk factors as of the most recent reporting date, or the sum of the average capital requirements for non-modellable risk factors over the prior 60 business days.\n",
      "**Section 1: Risk Factor Eligibility and Data Quality**\n",
      "The proposal allows banking organizations to use different periods for internal data for risk factor eligibility tests and expected shortfall models. Risk factors that pass the eligibility test and meet data quality requirements are deemed modellable. The agencies are seeking feedback on the data quality requirements, the requirement for weekly data updates, and the operational burden of modeling the idiosyncratic risk of an issuer.\n",
      "\n",
      "**Section 2: Internally Modelled Capital Calculation (IMCC)**\n",
      "The IMCC is designed to capture estimated losses for market risk covered positions. The proposal suggests that banking organizations should calculate entity-wide liquidity horizon-adjusted expected shortfall-based measures for all risk factors during stress. The agencies are seeking feedback on the proposal to use the same reduced set of risk factors to identify stress periods and calculate the IMCCs.\n",
      "\n",
      "**Section 3: Market Risk Capital Requirements**\n",
      "The proposal requires banking organizations to calculate market risk capital requirements for model-eligible trading desks incorporating securitization positions. The proposal also requires a banking organization's market risk capital requirement to reflect an additional capital requirement for deficiencies in the accuracy of a banking organization's internal models.\n",
      "\n",
      "**Section 4: PLA Test and Model Eligibility**\n",
      "The proposal requires a banking organization to switch from the internal models approach to the standardized approach for calculating market risk capital requirements if a trading desk fails the PLA test. The proposal also clarifies the treatment of certain market risk covered positions under the standardized and models-based measures for market risk.\n",
      "\n",
      "**Section 5: Securitization Positions and Equity Positions**\n",
      "The proposal mandates banking organizations to calculate market risk capital requirements for securitization positions using the standardized approach or the fallback capital requirement. For equity positions in an investment fund, the proposal requires a banking organization to apply the look-through approach under the standardized measure for market risk.\n",
      "\n",
      "**Section 6: Disclosure Requirements**\n",
      "The current capital rule requires banking organizations to disclose information about their portfolios and the internal models used to calculate market risk. A new proposal would eliminate certain quantitative disclosures, but retain others related to securitization positions and correlation trading positions.\n",
      "\n",
      "**Section 7: Credit Valuation Adjustment (CVA) Risk**\n",
      "The proposal would require large banking organizations to calculate a risk-weighted asset amount for the CVA risk arising from their portfolio of OTC derivative transactions. The proposal includes two approaches for calculating CVA capital requirements: the basic approach (BA-CVA) and the standardized approach (SA-CVA).\n",
      "\n",
      "**Section 8: Risk Management Requirements for CVA Risk**\n",
      "The proposal mandates banking organizations to meet certain risk management requirements related to the identification and management of CVA risk covered positions and eligible CVA hedges. This includes complying with additional operational requirements as outlined in the proposal.\n",
      "\n",
      "**Section 9: Regulatory CVA Calculation**\n",
      "The proposal requires banking organizations to include exposure models for regulatory CVA calculation in their risk management framework. The models must be validated annually and in case of sudden market changes.\n",
      "\n",
      "**Section 10: Delta and Vega Risk Factors**\n",
      "The proposal requires banking organizations to calculate risk-based capital requirements for delta and vega separately. The proposal also requires banking organizations to identify all relevant risk factors for delta and vega risk, and to identify the corresponding risk buckets within relevant risk classes.\n",
      "\n",
      "**Section 11: Impact on Capital Requirements**\n",
      "The proposal aims to strengthen risk-based capital requirements for large banking organizations, improving their risk sensitivity and comprehensiveness. The proposal would apply revised capital requirements to banking organizations subject to Category I, II, III, or IV capital standards, and to banking organizations with significant trading activity.\n",
      "**Section 1: Proposed Changes in Asset Class-Specific Risk Weights**\n",
      "The proposed changes would slightly alter banking organizations' portfolio allocations, potentially shifting asset allocation towards assets with lower risk weights. The proposal requires large banking organizations to maintain equity capital funding at a level at least as high as that required by the U.S. standardized approach. It also raises the risk weights for residential real estate and retail credit exposures and increases capital requirements affecting trading activities.\n",
      "\n",
      "**Section 2: Impact on Risk-Weighted Assets (RWA)**\n",
      "The proposed changes to RWA would impact the risk-based Total Loss-Absorbing Capacity (TLAC) and Long-Term Debt (LTD) requirements for Category I bank holding companies. The proposal also eliminates the internal-models method for calculating derivatives exposures, requiring all large banking organizations to use the standardized approach for counterparty credit risk.\n",
      "\n",
      "**Section 3: Proposed RWA Changes and Technical Corrections**\n",
      "The proposed RWA changes would affect the method 2 scores of U.S. Globally Systemically Important Banks (GSIBs). The proposal also includes technical corrections and clarifications to several provisions of the capital rule.\n",
      "\n",
      "**Section 4: Reporting, Recordkeeping, and Disclosure Requirements**\n",
      "The proposed rule includes revisions to current information collections under the Paperwork Reduction Act (PRA). The agencies are inviting comments on the necessity of the information collections for the proper performance of the agencies' functions.\n",
      "\n",
      "**Section 5: Proposed Changes to Reporting of Financial Items**\n",
      "The Board is proposing changes to the reporting of financial items to ensure banking organizations remain compliant with distribution limitations. This includes reporting the expanded risk-based approach versions of the common equity tier 1 capital ratio, tier 1 capital ratio, and total capital ratio.\n",
      "\n",
      "**Section 6: Proposed Rule on Capital Requirements**\n",
      "The proposed rule aims to revise capital requirements for large banking organizations and those with significant trading activity. The revisions aim to improve risk-based capital requirements calculations, reduce complexity, enhance consistency, and facilitate better supervisory and market assessments of capital adequacy.\n",
      "\n",
      "**Section 7: Feedback on Proposed Rule**\n",
      "The agencies are inviting comments on how to make notices of proposed rulemaking easier to understand and more organized. They are also seeking feedback on the clarity of the proposed rule's language and format.\n",
      "\n",
      "**Section 8: Risk Weights for Various Types of Exposures**\n",
      "Banking organizations must assign risk weights to various types of exposures. Risk weights are also assigned to real estate exposures, with different weights for multifamily mortgages, pre-sold construction loans, high-volatility commercial real estate exposures, and others based on Loan-to-Value (LTV) ratios and whether the exposure is dependent on real estate cash flows.\n",
      "\n",
      "**Section 9: Calculation of Exposure Amount for Derivative Contracts**\n",
      "The exposure amount for derivative contracts must be determined using the standardized approach for counterparty credit risk (SA-CCR), and can be reduced by the credit valuation adjustment recognized in the balance sheet valuation of any derivative contracts in the netting set.\n",
      "\n",
      "**Section 10: Risk-Weighted Asset Amount for Clearing Transactions**\n",
      "Banking organizations must calculate a risk-weighted asset amount for any collateral provided to a CCP, clearing member, or custodian in connection with a cleared transaction. The bank's total risk-weighted assets for cleared transactions is the sum of the risk-weighted asset amounts for all of its cleared transactions.\n",
      "Summary:\n",
      "\n",
      "I. Credit Risk Mitigation:\n",
      "A banking organization can recognize the credit risk mitigation benefits of an eligible guarantee or credit derivative by substituting the risk weight associated with the protection provider for the risk weight assigned to an exposure. This applies to exposures fully covered by an eligible guarantee or credit derivative, or covered on a pro rata basis, and to exposures with tranching of credit risk. \n",
      "\n",
      "II. Risk-Weighted Asset Calculation:\n",
      "If multiple eligible guarantees or credit derivatives cover a single exposure, the banking organization can treat the hedged exposure as multiple separate exposures and calculate a separate risk-weighted asset amount for each. Adjustments must be made for maturity mismatch and currency mismatch.\n",
      "\n",
      "III. Financial Collateral:\n",
      "To recognize the risk-mitigating effects of financial collateral, a banking organization may use the simple approach for non-derivative exposures or the collateral haircut approach for repo-style transactions, eligible margin loans, or a netting set of such transactions.\n",
      "\n",
      "IV. Securitization:\n",
      "A banking organization that transfers exposures it has originated or purchased to a securitization SPE or other third party in connection with a traditional securitization may exclude the exposures from the calculation of its risk-weighted assets only if certain conditions are met.\n",
      "\n",
      "V. Default Derivatives:\n",
      "For default derivatives, the n-1 assets with the lowest risk-weighted amounts can be excluded from the risk-weighted capital calculation. However, a banking organization cannot recognize a purchased nth-to-default credit derivative as a credit risk mitigant and must calculate the counterparty credit risk accordingly.\n",
      "\n",
      "VI. Equity Exposures:\n",
      "Banking organizations must use specific approaches to calculate risk-weighted asset amounts for equity exposures that are not in investment funds, and for other equity exposures. Different risk weights are assigned to different types of exposures.\n",
      "\n",
      "VII. Operational Risk:\n",
      "The risk-weighted assets for operational risk equals the operational risk capital requirement multiplied by 12.5. The operational risk capital requirement equals the Business Indicator Component multiplied by the Internal Loss Multiplier.\n",
      "\n",
      "VIII. Disclosure Requirements:\n",
      "Banking organizations are required to disclose their credit risk mitigation strategies, their objectives, risks, roles, and policies regarding securitization, their accounting policies for securitization activities, their equity risk for equities not subject to subpart F, and their operational risk management policies.\n",
      "\n",
      "IX. Regulatory Compliance:\n",
      "A banking organization must comply with policies and procedures for calculating market risk measures, including mapping risk factors to liquidity horizons. The internal audit function must report its findings to the board of directors at least annually.\n",
      "\n",
      "X. Market Risk Capital Requirement:\n",
      "A banking organization's non-default risk capital requirement is calculated using the internally modelled capital calculation (IMCC) and the stressed expected shortfall (SES), with a capital multiplier of 1.5 unless otherwise specified. The standardized approach capital requirement is defined for market risk covered positions and term repo-style transactions that the banking organization includes in market risk on all trading desks, model-ineligible trading desks, and model-eligible trading desks.\n",
      "Section 1: Risk Calculation and Capital Requirement\n",
      "- Banking organizations must calculate risk positions for each risk factor, including delta, vega, and curvature risk, by aggregating risk-weighted sensitivities across common characteristics.\n",
      "- The risk class-level capital requirement is calculated by aggregating bucket-level risk positions for each risk class under three correlation scenarios.\n",
      "- The sensitivities-based capital requirement is calculated by summing the risk class-level capital requirements for each risk class under each correlation scenario.\n",
      "- The delta capital requirement is calculated for all market risk covered positions, except those exclusively dependent on an exotic exposure.\n",
      "- The vega and curvature capital requirements are calculated for market risk covered positions that are options or have embedded optionality.\n",
      "\n",
      "Section 2: Risk Position Calculation and Correlation Parameters\n",
      "- The curvature risk position calculation requires an upward and downward shock to be applied to each market risk covered position.\n",
      "- The curvature bucket-level risk position is calculated by aggregating the net curvature risk positions within the bucket using the correlation parameter.\n",
      "- The curvature capital requirement for each risk class is calculated by aggregating the curvature bucket-level risk positions across buckets within each risk class.\n",
      "- Banking organizations are required to use specific correlation parameters for aggregating risk-weighted delta sensitivities of interest rate risk within a bucket.\n",
      "\n",
      "Section 3: Risk Factor Mapping and Sensitivity Calculation\n",
      "- Banking organizations must map the implied volatility of the option to one or more tenors specified in the risk factors definitions for interest rate risk.\n",
      "- For options or positions with embedded options that do not have a strike price, have multiple strike prices, or are barrier options, banking organizations must map these to the strike prices and maturities used for models used to calculate vega sensitivity.\n",
      "- In calculating the sensitivities-based capital requirement, banking organizations must identify all relevant risk factors for its market risk covered positions.\n",
      "\n",
      "Section 4: Risk Factor Definitions and Correlation Parameters\n",
      "- Risk factors for various risks such as interest rate risk, credit spread risk, equity risk, commodity risk, and foreign exchange risk are defined.\n",
      "- Banking organizations are required to use specific correlation parameters for aggregating risk-weighted delta sensitivities of interest rate risk within a bucket.\n",
      "\n",
      "Section 5: Capital Requirement Calculation and Reporting\n",
      "- Banking organizations must calculate the standardized default risk capital requirement for its market risk covered positions across different default risk categories.\n",
      "- The overall standardized default risk capital requirement is the sum of the default risk capital requirement for each default risk category.\n",
      "- The banking organization must provide all public reports and disclosures in one place on its website or in multiple public financial reports.\n",
      "\n",
      "Section 6: Model Eligibility and Validation\n",
      "- A banking organization must have at least one model-eligible trading desk and receive prior written approval from the agency to calculate the models-based measure for market risk.\n",
      "- The banking organization must review its internal models annually, integrate them into its daily risk management process, and validate them initially and on an ongoing basis.\n",
      "\n",
      "Section 7: CVA Risk Management and Capital Requirement\n",
      "- Banking organizations must have a CVA risk management framework that includes the identification, measurement, management, approval, and internal reporting of CVA risk.\n",
      "- A banking organization must calculate the CVA vega capital requirement, which is the sum of the risk class-level CVA vega capital requirements for five risk classes: interest rate risk, foreign exchange risk, reference credit spread risk, equity risk, and commodity risk.\n",
      "Section 1: Regulatory CVA Calculations and Risk Mitigants\n",
      "- Banking organizations must account for the dependence between exposure and counterparty's credit quality in regulatory CVA calculations for transactions with significant dependence.\n",
      "- Only qualifying financial collateral can be recognized as a risk mitigant for margined counterparties.\n",
      "- The same CVA exposure models must be used for financial reporting and regulatory CVA calculations.\n",
      "\n",
      "Section 2: CVA Vega Sensitivity and Risk Factor Calculations\n",
      "- Banking organizations must measure the CVA vega sensitivity for commodity risk and can use smaller values of risk factor changes if consistent with internal risk management calculations.\n",
      "- Volatility shifts must apply to both types of volatilities in exposure models when calculating CVA vega sensitivities.\n",
      "\n",
      "Section 3: Risk Classes and Delta Risk Factors\n",
      "- For counterparty credit spread risk, delta risk factors are calculated based on absolute shifts of credit spreads of individual entities and qualified indices.\n",
      "- Banking organizations may introduce additional risk factors for counterparty credit spread risk, reference credit spread risk, and equity risk.\n",
      "\n",
      "Section 4: Risk Weights and Correlation Parameters\n",
      "- Delta risk weights for counterparty credit spread risk and equity risk are set out in specific tables, with different weights assigned to different sectors and economies.\n",
      "- Cross-bucket correlation parameters are defined for different credit qualities across various buckets.\n",
      "\n",
      "Section 5: Regulatory Compliance and Definitions\n",
      "- National banks or Federal savings associations with total consolidated assets of $50 billion or more must make public disclosures as per subpart D.\n",
      "- If a national bank or Federal savings association changes its category, it must comply with the requirements of its new category, including applicable transition provisions.\n",
      "- Several definitions have been revised or removed, and new definitions have been added.\n",
      "\n",
      "Section 6: Consolidated Assets and Category Definitions\n",
      "- A national bank or Federal savings association's consolidated assets are calculated based on its total consolidated assets, as reported on the Call Report, for the most recent quarter or average of the most recent quarters.\n",
      "- Definitions are provided for Category III and Category IV entities based on total consolidated assets and other criteria.\n",
      "\n",
      "Section 7: Exposure Calculations and Definitions\n",
      "- The on-balance sheet component of an exposure is determined by the carrying value of the exposure, while the off-balance sheet component is determined by the notional amount multiplied by the appropriate credit conversion factor.\n",
      "- Definitions are provided for terms such as market risk-weighted assets, net independent collateral amount, netting set, and speculative grade.\n",
      "\n",
      "Section 8: Risk-Weighted Assets and Definitions\n",
      "- Standardized market risk-weighted assets are calculated by multiplying the standardized measure for market risk by 12.5.\n",
      "- Definitions are provided for terms such as sub-speculative grade, synthetic exposure, and total credit risk-weighted assets.\n",
      "\n",
      "Section 9: Derivative Contracts and Repo-Style Transactions\n",
      "- The fair value of each derivative contract or netting set of derivative contracts is calculated, including cleared transactions.\n",
      "- The counterparty credit risk of a repo-style transaction is calculated, including where the bank acts as an agent for a repo-style transaction and indemnifies the customer with respect to the performance of the customer's counterparty.\n",
      "\n",
      "Section 10: Regulatory Changes and Definitions\n",
      "- Changes have been made to various sections of the regulations, including the removal and revision of certain definitions.\n",
      "- National banks or Federal savings associations not subject to subpart E must make their AOCI opt-out election in the Call Report during the first reporting period after they are required to comply with subpart A.\n",
      "\n",
      "Section 11: Capital Requirements and Buffers\n",
      "- A Board-regulated institution subject to subpart E must maintain a supplementary leverage ratio of 3 percent.\n",
      "- The capital conservation buffer is composed solely of common equity tier 1 capital, and the maximum payout ratio is the percentage of eligible retained income that a Board-regulated institution can pay out in the form of distributions and discretionary bonus payments during the current calendar quarter.\n",
      "\n",
      "Section 12: Countercyclical Capital Buffer and Distribution Limitations\n",
      "- The countercyclical capital buffer is an extension of the capital conservation buffer, calculated as the weighted average of the buffer amounts established for the jurisdictions where a Board-regulated institution's private sector credit exposures are located.\n",
      "- A Board-regulated institution is not allowed to make distributions or discretionary bonus payments during the current calendar quarter that exceed its maximum payout amount.\n",
      "Section 1: Capital Conservation and Leverage Buffer\n",
      "- A Board-regulated institution's capital conservation buffer is determined by the lowest of three ratios: common equity tier 1 capital ratio, tier 1 capital ratio, and total capital ratio, each minus their respective minimum requirements. \n",
      "- The leverage buffer for a global systemically important bank holding company (BHC) is its supplementary leverage ratio minus 3 percent. \n",
      "- The maximum payout ratio for a Board-regulated institution is determined by its capital buffer, with different percentages applying depending on the buffer's size relative to the institution's buffer requirement.\n",
      "\n",
      "Section 2: Regulatory Changes and Definitions\n",
      "- Changes have been made to various sections of financial regulations, including revisions to definitions, removal and replacement of certain phrases, and redesignation of paragraphs. \n",
      "- The definition of \"regulatory capital ratio\" has been revised to refer to a capital ratio for which the Board has established minimum requirements. \n",
      "\n",
      "Section 3: Capital Deductions and Risk Weights\n",
      "- An FDIC-supervised institution's non-significant investments in unconsolidated financial institutions are treated as tier 2 capital. \n",
      "- Significant investments in unconsolidated financial institutions that are not common stock must be deducted from capital. \n",
      "- Deductions must be made from common equity tier 1 capital elements for items that exceed 10% of the institution's common equity tier 1 capital elements, less adjustments and deductions.\n",
      "\n",
      "Section 4: Transition Adjustments and Regulatory Compliance\n",
      "- From July 1, 2025, Category III and IV Board-regulated institutions must make transition adjustments for Accumulated Other Comprehensive Income (AOCI) and comply with new requirements for expanded total risk-weighted assets. \n",
      "- An FDIC-supervised institution that changes its category must comply with the requirements of its new category, including transition provisions, by the first day of the second quarter following the change.\n",
      "\n",
      "Section 5: Capital Requirements and Risk Mitigation\n",
      "- The FDIC-supervised institution's carrying value for equity securities classified as available-for-sale or held-to-maturity is calculated by subtracting any net unrealized gains and adding any net unrealized losses on the exposure. \n",
      "- The institution may recognize the credit risk mitigation benefits of financial collateral that secures an eligible margin loan, repo-style transaction, collateralized derivative contract, or single-product netting set of such transactions. \n",
      "\n",
      "Section 6: Regulatory Amendments and Definitions\n",
      "- Amendments have been made to various sections of the regulations, including revisions to the minimum capital requirements and the definitions of \"Category II FDIC-supervised institution\" and \"Category III FDIC-supervised institution\". \n",
      "- The term 'total assets' in § 324.4 is defined as per 12 CFR § 324.401(g). \n",
      "\n",
      "Section 7: Capital Deductions and Risk Weights\n",
      "- An FDIC-supervised institution may deduct non-significant investments in the capital of an unconsolidated financial institution or an investment in a covered debt instrument, exceeding the 10 percent threshold, from a specific capital component. \n",
      "- If an FDIC-supervised institution has a significant investment in the capital of an unconsolidated financial institution, it must deduct any such investment not in the form of common stock, as well as any investment in a covered debt instrument, from its capital. \n",
      "\n",
      "Section 8: Regulatory Compliance and Transition Adjustments\n",
      "- An FDIC-supervised institution that has elected the 2020 CECL transition provision can increase its total leverage exposure for the supplementary leverage ratio by 100% of its modified CECL transitional amount during the first two years of the transition period. \n",
      "- Subpart H implements the provisions of section 38 of the FDI Act as they apply to FDIC-supervised institutions and insured branches of foreign banks, including officers, directors, and employees of those insured institutions.\n"
     ]
    }
   ],
   "source": [
    "logger.info(consolidated_summaries)"
   ]
  },
  {
   "cell_type": "markdown",
   "metadata": {},
   "source": [
    "#### Final Consolidation"
   ]
  },
  {
   "cell_type": "code",
   "execution_count": 57,
   "metadata": {},
   "outputs": [],
   "source": [
    "model = ChatOpenAI(openai_api_key=api_key, \n",
    "                   model_name=MODEL_NAME, \n",
    "                   temperature=0.0, \n",
    "                   max_tokens=1536)\n",
    "\n",
    "def get_summary(context: str) -> str:\n",
    "    template = \"You are a Financial Regulations & Derivatives Expert\"\n",
    "    system_message = SystemMessagePromptTemplate.from_template(template)\n",
    "\n",
    "    template = \"\"\"\"Given the context below, combine and merge duplicate sections and pointers.\\n\\n{context}\\nAdd SECTIONS and bullets wherever needed. Clean rewrite and re-number sections.\"\"\"\n",
    "    human_message = HumanMessagePromptTemplate.from_template(template)\n",
    "\n",
    "    chat_prompt = ChatPromptTemplate.from_messages([system_message, human_message])\n",
    "    prompt = chat_prompt.format_prompt(context=context).to_messages()\n",
    "\n",
    "    response = model(prompt)\n",
    "    return response.content"
   ]
  },
  {
   "cell_type": "code",
   "execution_count": 58,
   "metadata": {},
   "outputs": [
    {
     "name": "stderr",
     "output_type": "stream",
     "text": [
      "**Section 1: Proposed Rule Change and Basel Committee Reforms**\n",
      "The Office of the Comptroller of the Currency, the Board of Governors of the Federal Reserve System, and the Federal Deposit Insurance Corporation, along with the Basel Committee on Banking Supervision, have proposed a rule change to revise capital requirements for large banking organizations and those with significant trading activity. The changes aim to improve risk-based capital requirement calculations, reduce complexity, enhance consistency, and facilitate more effective supervisory and market assessments of capital adequacy. The revisions include replacing current requirements that use banking organizations' internal models for credit risk and operational risk with standardized approaches. The changes would align with international capital standards issued by the Basel Committee, known as the Basel III reforms, but would also reflect specific characteristics of U.S. markets and legal requirements.\n",
      "\n",
      "**Section 2: GSIB Surcharge Calculation, Systemic Risk Report, and Capital Conservation Buffer Requirement**\n",
      "The Board is proposing a revision to the GSIB surcharge calculation and systemic risk report for large banking organizations. The proposal would eliminate the use of internal models for setting credit and operational risk capital requirements for banking organizations subject to Category I or II capital standards. Instead, standardized requirements would be used, improving consistency, transparency, and efficiency. The proposal also aims to extend the application of the countercyclical capital buffer to banking organizations subject to Category IV capital standards. This tool increases capital requirements for large banks during periods of elevated risk, enhancing the resilience of the financial system. Banking organizations with over $100 billion in total consolidated assets are subject to a standardized approach capital conservation buffer requirement. The Board is proposing to amend its capital plan rule to take into account capital ratios calculated under the expanded risk-based approach, in addition to the standardized approach.\n",
      "\n",
      "**Section 3: Credit Risk Exposure, Retail Exposures, and Corporate Exposures**\n",
      "The proposal suggests that banking organizations should maintain capital in line with the level and nature of their risk exposure. It proposes replacing the use of internal models for setting regulatory capital requirements for credit risk with a new expanded risk-based approach. This approach would apply the same risk-weight treatment for on-balance sheet exposures, including those to sovereigns, certain supranational entities, and multilateral development banks. The proposal also aims to increase the credit risk-sensitivity of capital requirements for retail exposures by assigning risk weights that vary based on product type and portfolio diversification. The new definition of retail exposure includes exposure to individuals or small to medium-sized entities (SMEs), benefiting smaller companies with characteristics more akin to individuals than larger corporations. Corporate exposure under the proposal is an exposure to a company that does not fall under any other exposure category. The proposal differentiates the risk weights of corporate exposures based on factors such as credit risk, investment quality, level of subordination, and the nature of the lending arrangement.\n",
      "\n",
      "**Section 4: Project Finance Exposures, Collateral and Credit Risk Mitigants, and Haircuts for Investment Grade Senior Securitization Exposures**\n",
      "The proposal defines a project finance exposure as a corporate exposure where the banking organization relies on the revenues generated by a single project for repayment and security. The primary determinant of credit risk is the variability of the project's cash flows. Banks can reduce credit risk and associated capital requirements by using collateral and other credit risk mitigants. These mitigants must be of high quality to effectively reduce credit risk. The proposal would eliminate the use of models for credit risk under the current capital rule and replace them with standardized approaches. The proposal outlines term-based haircuts for investment grade senior securitization exposures with a risk weight of less than 100 percent. Other securitization exposures would receive a 30 percent market price volatility haircut. The proposal also includes a framework for minimum haircuts on non-centrally cleared securities financing transactions to reflect the risk exposure of banking organizations to non-bank financial entities.\n",
      "\n",
      "**Section 5: In-Scope Transactions and Minimum Haircut Floors, New Treatments and Modifications, and Securitization Exposures**\n",
      "The proposal suggests excluding certain in-scope transactions from the minimum haircut floors due to their lower credit and liquidity risks. It establishes minimum haircut floors for these transactions based on historical price volatilities and existing market conventions. If a banking organization's portfolio doesn't meet the minimum haircut floor, it cannot recognize the risk-mitigating benefits of the collateral received. The proposal introduces new treatments for default credit derivatives, derivative contracts without credit enhancement, overlapping exposures, and non-performing loan securitizations. It also modifies treatments for certain senior securitization exposures and credit-enhancing interest only strips. The proposal introduces a risk weight floor of 15 percent for securitization exposures that are not resecuritization exposures. It also proposes a minimum risk-weight floor of 100 percent for resecuritization exposures and Non-Performing Loan (NPL) securitization exposures.\n",
      "\n",
      "**Section 6: Equity Exposures, Investment Fund Exposures, Operational Risk, and Market Risk**\n",
      "The proposal maintains the current capital rule's methods for calculating the adjusted carrying value for equity exposures, with some modifications. It introduces a risk-weighted asset amount for an equity exposure and revises the risk weights applicable to other types of equity exposures. The proposal requires banking organizations to calculate a risk-weighted asset amount for each exposure held by an investment fund. If the organization cannot use the full look-through approach, it must use the alternative modified look-through approach. The proposal introduces a standardized approach for operational risk, replacing the Advanced Measurement Approaches (AMA). The new approach calculates operational risk capital requirements based on a banking organization's business indicator component and internal loss multiplier. The proposal introduces a risk-sensitive standardized methodology for calculating risk-weighted assets for market risk and a new models-based methodology. It also expands the types of positions that would be covered by market risk, including certain equity positions in an investment fund, net short risk positions, certain publicly traded equity positions, embedded derivatives on instruments issued by the banking organization, and certain positions associated with internal risk transfer.\n",
      "\n",
      "**Section 7: Internal Risk Transfers, Internal Credit Valuation Adjustment (CVA) Risk Transfers, and Market Risk Covered Positions**\n",
      "The proposal defines internal risk transfers and establishes a set of requirements for a banking organization to recognize certain types of internal risk transfers in risk-based capital requirements. It also considers modifying the criteria for including external CVA hedges in the scope of market risk covered position. The proposal outlines capital treatment for internal CVA risk transfers between a CVA desk and a trading desk. It mandates a dedicated CVA desk for managing internal risk transfers and record-keeping of each internal derivative transaction. If the internal risk transfer involves curvature risk, default risk, or the residual risk add-on, an external transaction with a third party is required. The proposal expands requirements for banking organizations to identify market risk covered positions, including annual updates and exclusions. It introduces a formal framework for re-designating a position after initial designation, requiring senior management approval.\n",
      "\n",
      "**Section 8: Trading Desk Definition and Requirements, Market Risk Capital Framework, and Documentation and Operational Requirements**\n",
      "The proposal introduces the concept of a trading desk, a unit that manages and operates trading activities. It requires clearly defined trading and hedging strategies, approved by senior management, and specifies the expected holding period, market risk, and risk acceptance level. The proposed market risk capital framework applies to all banking organizations. It requires clear policies for managing market risk, daily monitoring of position limits, and quarterly stress tests at both entity-wide and trading-des\n"
     ]
    }
   ],
   "source": [
    "final_summary = get_summary(consolidated_summaries)\n",
    "logger.info(final_summary)"
   ]
  },
  {
   "cell_type": "code",
   "execution_count": 59,
   "metadata": {},
   "outputs": [
    {
     "name": "stderr",
     "output_type": "stream",
     "text": [
      "Max input tokens allowed per API call = 6660\n",
      "Total tokens in final summary = 1536\n"
     ]
    }
   ],
   "source": [
    "MAX_OUTPUT_TOKENS = 1536\n",
    "max_input_tokens = CONTEXT_LENGTH - MAX_OUTPUT_TOKENS\n",
    "logger.info(f'Max input tokens allowed per API call = {max_input_tokens}')\n",
    "logger.info(f'Total tokens in final summary = {get_total_tokens([final_summary])}')"
   ]
  },
  {
   "cell_type": "markdown",
   "metadata": {},
   "source": [
    "##### Persist final summary to local disk"
   ]
  },
  {
   "cell_type": "code",
   "execution_count": 60,
   "metadata": {},
   "outputs": [],
   "source": [
    "with open(f'{LOCAL_OUTPUT_DIR}/{FILE_NAME}/OAI/final-summary.txt', 'w') as f:\n",
    "    f.write(final_summary)"
   ]
  },
  {
   "cell_type": "markdown",
   "metadata": {},
   "source": [
    "##### Create a filtered summary with all the proposed changes on the `Processing of Derivative Contracts`"
   ]
  },
  {
   "cell_type": "code",
   "execution_count": 63,
   "metadata": {},
   "outputs": [],
   "source": [
    "model = ChatOpenAI(openai_api_key=api_key, \n",
    "                   model_name=MODEL_NAME, \n",
    "                   temperature=0.0, \n",
    "                   max_tokens=1536)\n",
    "\n",
    "def get_summary(context: str) -> str:\n",
    "    template = \"You are a Financial Regulations & Derivatives Expert\"\n",
    "    system_message = SystemMessagePromptTemplate.from_template(template)\n",
    "\n",
    "    template = \"\"\"\"Given the SUMMARY below, extract and refine all proposed changes related to the processing of derivative contracts into a separate list. Create a concise and detailed summary with clear pointers.\\n\\n{context}\"\"\"\n",
    "    human_message = HumanMessagePromptTemplate.from_template(template)\n",
    "\n",
    "    chat_prompt = ChatPromptTemplate.from_messages([system_message, human_message])\n",
    "    prompt = chat_prompt.format_prompt(context=context).to_messages()\n",
    "\n",
    "    response = model(prompt)\n",
    "    return response.content"
   ]
  },
  {
   "cell_type": "code",
   "execution_count": 64,
   "metadata": {},
   "outputs": [
    {
     "name": "stderr",
     "output_type": "stream",
     "text": [
      "Proposed Changes Related to the Processing of Derivative Contracts:\n",
      "\n",
      "1. The proposal suggests replacing the use of banking organizations' internal models for setting regulatory capital requirements for credit risk with a new expanded risk-based approach. This approach would apply the same risk-weight treatment for on-balance sheet exposures, including those to sovereigns, certain supranational entities, and multilateral development banks.\n",
      "\n",
      "2. The proposal suggests that banking organizations should maintain capital in line with the level and nature of their risk exposure. It proposes replacing the use of internal models for setting regulatory capital requirements for credit risk with a new expanded risk-based approach.\n",
      "\n",
      "3. The proposal would eliminate the use of models for credit risk under the current capital rule and replace them with standardized approaches.\n",
      "\n",
      "4. The proposal outlines term-based haircuts for investment grade senior securitization exposures with a risk weight of less than 100 percent. Other securitization exposures would receive a 30 percent market price volatility haircut.\n",
      "\n",
      "5. The proposal introduces new treatments for default credit derivatives, derivative contracts without credit enhancement, overlapping exposures, and non-performing loan securitizations.\n",
      "\n",
      "6. The proposal introduces a risk-sensitive standardized methodology for calculating risk-weighted assets for market risk and a new models-based methodology.\n",
      "\n",
      "7. The proposal outlines capital treatment for internal CVA risk transfers between a CVA desk and a trading desk. It mandates a dedicated CVA desk for managing internal risk transfers and record-keeping of each internal derivative transaction.\n",
      "\n",
      "8. The proposal requires banking organizations to calculate the sensitivity of a market risk covered position to each of the proposed risk factors for delta, vega, and curvature.\n",
      "\n",
      "9. The proposal requires banking organizations to calculate a residual risk add-on for market risk covered positions with exotic exposure and other residual risks.\n",
      "\n",
      "10. The proposal would require large banking organizations to calculate a risk-weighted asset amount for the CVA risk arising from their portfolio of OTC derivative transactions.\n",
      "\n",
      "11. The proposal requires banking organizations to include exposure models for regulatory CVA calculation in their risk management framework.\n",
      "\n",
      "12. The proposal requires banking organizations to calculate risk-based capital requirements for delta and vega separately.\n",
      "\n",
      "13. The proposal eliminates the internal-models method for calculating derivatives exposures, requiring all large banking organizations to use the standardized approach for counterparty credit risk.\n",
      "\n",
      "14. The exposure amount for derivative contracts must be determined using the standardized approach for counterparty credit risk (SA-CCR), and can be reduced by the credit valuation adjustment recognized in the balance sheet valuation of any derivative contracts in the netting set.\n",
      "\n",
      "15. The proposal requires banking organizations to calculate the total standardized default risk capital requirement as the sum of each default risk category level capital requirements, without recognizing any diversification benefits across different types of default risk categories.\n",
      "\n",
      "16. The proposal requires banking organizations to calculate a risk-weighted asset amount for any collateral provided to a CCP, clearing member, or custodian in connection with a cleared transaction.\n",
      "\n",
      "17. The proposal requires banking organizations to calculate market risk capital requirements for model-eligible trading desks incorporating securitization positions.\n",
      "\n",
      "18. The proposal requires a banking organization to switch from the internal models approach to the standardized approach for calculating market risk capital requirements if a trading desk fails the PLA test.\n",
      "\n",
      "19. The proposal mandates banking organizations to calculate market risk capital requirements for securitization positions using the standardized approach or the fallback capital requirement.\n",
      "\n",
      "20. The proposal would require large banking organizations to calculate a risk-weighted asset amount for the CVA risk arising from their portfolio of OTC derivative transactions.\n",
      "\n",
      "21. The proposal requires banking organizations to calculate risk-based capital requirements for delta and vega separately.\n",
      "\n",
      "22. The proposal requires banking organizations to calculate the total standardized default risk capital requirement as the sum of each default risk category level capital requirements, without recognizing any diversification benefits across different types of default risk categories.\n",
      "\n",
      "23. The proposal requires banking organizations to calculate a risk-weighted asset amount for any collateral provided to a CCP, clearing member, or custodian in connection with a cleared transaction.\n",
      "\n",
      "24. The proposal requires banking organizations to calculate market risk capital requirements for model-eligible trading desks incorporating securitization positions.\n",
      "\n",
      "25. The proposal requires a banking organization to switch from the internal models approach to the standardized approach for calculating market risk capital requirements if a trading desk fails the PLA test.\n",
      "\n",
      "26. The proposal mandates banking organizations to calculate market risk capital requirements for securitization positions using the standardized approach or the fallback capital requirement.\n",
      "\n",
      "27. The proposal would require large banking organizations to calculate a risk-weighted asset amount for the CVA risk arising from their portfolio of OTC derivative transactions.\n",
      "\n",
      "28. The proposal requires banking organizations to calculate risk-based capital requirements for delta and vega separately.\n",
      "\n",
      "29. The proposal requires banking organizations to calculate the total standardized default risk capital requirement as the sum of each default risk category level capital requirements, without recognizing any diversification benefits across different types of default risk categories.\n",
      "\n",
      "30. The proposal requires banking organizations to calculate a risk-weighted asset amount for any collateral provided to a CCP, clearing member, or custodian in connection with a cleared transaction.\n",
      "\n",
      "31. The proposal requires banking organizations to calculate market risk capital requirements for model-eligible trading desks incorporating securitization positions.\n",
      "\n",
      "32. The proposal requires a banking organization to switch from the internal models approach to the standardized approach for calculating market risk capital requirements if a trading desk fails the PLA test.\n",
      "\n",
      "33. The proposal mandates banking organizations to calculate market risk capital requirements for securitization positions using the standardized approach or the fallback capital requirement.\n"
     ]
    }
   ],
   "source": [
    "proposed_changes_summary = get_summary(consolidated_summaries)\n",
    "logger.info(proposed_changes_summary)"
   ]
  },
  {
   "cell_type": "code",
   "execution_count": 65,
   "metadata": {},
   "outputs": [
    {
     "name": "stderr",
     "output_type": "stream",
     "text": [
      "Max input tokens allowed per API call = 6660\n",
      "Total tokens in final summary = 1116\n"
     ]
    }
   ],
   "source": [
    "MAX_OUTPUT_TOKENS = 1536\n",
    "max_input_tokens = CONTEXT_LENGTH - MAX_OUTPUT_TOKENS\n",
    "logger.info(f'Max input tokens allowed per API call = {max_input_tokens}')\n",
    "logger.info(f'Total tokens in final summary = {get_total_tokens([proposed_changes_summary])}')"
   ]
  },
  {
   "cell_type": "code",
   "execution_count": 66,
   "metadata": {},
   "outputs": [],
   "source": [
    "with open(f'{LOCAL_OUTPUT_DIR}/{FILE_NAME}/OAI/proposed-changes-summary.txt', 'w') as f:\n",
    "    f.write(proposed_changes_summary)"
   ]
  },
  {
   "cell_type": "code",
   "execution_count": null,
   "metadata": {},
   "outputs": [],
   "source": []
  }
 ],
 "metadata": {
  "kernelspec": {
   "display_name": ".venv",
   "language": "python",
   "name": "python3"
  },
  "language_info": {
   "codemirror_mode": {
    "name": "ipython",
    "version": 3
   },
   "file_extension": ".py",
   "mimetype": "text/x-python",
   "name": "python",
   "nbconvert_exporter": "python",
   "pygments_lexer": "ipython3",
   "version": "3.9.6"
  },
  "orig_nbformat": 4
 },
 "nbformat": 4,
 "nbformat_minor": 2
}
