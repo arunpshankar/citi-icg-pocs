{
 "cells": [
  {
   "cell_type": "markdown",
   "metadata": {},
   "source": [
    "## Finding Differences Between Summaries by Topic Using GPT-4\n",
    "This notebook uses the GPT-4 model to compare and highlight the differences between two summaries. The primary steps involve:<br><br>\n",
    "* Configuration and Setup<br>\n",
    "* Loading Document Summaries<br>\n",
    "* Comparing and Highlighting Differences<br>"
   ]
  },
  {
   "cell_type": "markdown",
   "metadata": {},
   "source": [
    "#### 1. Configuration and Setup\n",
    "1.1. Import Necessary Libraries"
   ]
  },
  {
   "cell_type": "code",
   "execution_count": 1,
   "metadata": {},
   "outputs": [],
   "source": [
    "# Importing necessary libraries for chat modeling, prompts, logging, etc.\n",
    "from langchain.prompts import SystemMessagePromptTemplate, HumanMessagePromptTemplate, ChatPromptTemplate\n",
    "from langchain.chat_models import ChatOpenAI\n",
    "import logging\n",
    "import yaml\n",
    "import os"
   ]
  },
  {
   "cell_type": "markdown",
   "metadata": {},
   "source": [
    "1.2. Logging Setup"
   ]
  },
  {
   "cell_type": "code",
   "execution_count": 2,
   "metadata": {},
   "outputs": [],
   "source": [
    "# Set up logging to capture progress and potential issues\n",
    "logger = logging.getLogger(__name__)\n",
    "logger.setLevel(logging.DEBUG)\n",
    "logger.addHandler(logging.StreamHandler())"
   ]
  },
  {
   "cell_type": "markdown",
   "metadata": {},
   "source": [
    "1.3. Load API Key and Set Paths"
   ]
  },
  {
   "cell_type": "code",
   "execution_count": 3,
   "metadata": {},
   "outputs": [],
   "source": [
    "# Load the API key from the credentials file\n",
    "with open('./../credentials/oai-key.yml', 'rb') as f:\n",
    "    credentials = yaml.safe_load(f)\n",
    "\n",
    "api_key = credentials['key']\n",
    "os.environ['OPENAI_API_KEY'] = api_key\n",
    "\n",
    "# Define paths for input and output data\n",
    "LOCAL_INPUT_DIR = './DATA/INPUT'\n",
    "LOCAL_OUTPUT_DIR = './DATA/OUTPUT'\n",
    "\n",
    "# Specify the model name\n",
    "MODEL_NAME = 'gpt-4'\n",
    "\n",
    "# Define file names for the summaries to be compared\n",
    "FILE_NAME_1 = 'file-1'\n",
    "FILE_NAME_2 = 'file-2'"
   ]
  },
  {
   "cell_type": "markdown",
   "metadata": {},
   "source": [
    "#### 2. Loading Document Summaries"
   ]
  },
  {
   "cell_type": "code",
   "execution_count": null,
   "metadata": {},
   "outputs": [],
   "source": [
    "# Load the summaries of the two documents for comparison\n",
    "with open(f'{LOCAL_OUTPUT_DIR}/{FILE_NAME_1}/SUMMARY/{FILE_NAME_1}-summary-vai.txt', 'rb') as f:\n",
    "    summary_1 = f.read()\n",
    "\n",
    "with open(f'{LOCAL_OUTPUT_DIR}/{FILE_NAME_2}/SUMMARY/{FILE_NAME_2}-summary-vai.txt', 'rb') as f:\n",
    "    summary_2 = f.read()"
   ]
  },
  {
   "cell_type": "markdown",
   "metadata": {},
   "source": [
    "#### 3. Comparing and Highlighting Differences\n",
    "3.1. Initialize the GPT-4 Model"
   ]
  },
  {
   "cell_type": "code",
   "execution_count": null,
   "metadata": {},
   "outputs": [],
   "source": [
    "# Initialize the GPT-4 model for chat-based tasks\n",
    "llm = ChatOpenAI(model_name=MODEL_NAME, \n",
    "                 temperature=0.0, \n",
    "                 max_tokens=2048)"
   ]
  },
  {
   "cell_type": "markdown",
   "metadata": {},
   "source": [
    "3.2. Define Chat Prompts"
   ]
  },
  {
   "cell_type": "code",
   "execution_count": null,
   "metadata": {},
   "outputs": [],
   "source": [
    "# Define the system prompt for introducing the task to the model\n",
    "system_template = \"\"\"\n",
    "You are a Derivatives Risk Analyst tasked with comparing the summaries of two documents, SUMMARY_1 and SUMMARY_2 provided below.\n",
    "---\n",
    "SUMMARY_1 => {summary_1}\n",
    "---\n",
    "SUMMARY_2 => {summary_2}\n",
    "---\n",
    "\"\"\"\n",
    "system_message_prompt = SystemMessagePromptTemplate.from_template(system_template)\n",
    "\n",
    "# Define the human prompt to instruct the model on how to approach the comparison\n",
    "human_template = \"\"\"\n",
    "First, identify common themes between them. \n",
    "Next, point out the differences between the identified topics.\n",
    "Finally, write a detailed paragraph on the identified differences.\n",
    "\"\"\"\n",
    "human_message_prompt = HumanMessagePromptTemplate.from_template(human_template)\n",
    "\n",
    "# Combine the system and human prompts\n",
    "chat_prompt = ChatPromptTemplate.from_messages([system_message_prompt, human_message_prompt])\n",
    "prompt = chat_prompt.format_prompt(summary_1=summary_1, summary_2=summary_2).to_messages()"
   ]
  },
  {
   "cell_type": "markdown",
   "metadata": {},
   "source": [
    "3.3. Execute the Model and Retrieve Response"
   ]
  },
  {
   "cell_type": "code",
   "execution_count": null,
   "metadata": {},
   "outputs": [],
   "source": [
    "# Execute the model with the formulated prompt and log the response\n",
    "response = llm(prompt)\n",
    "logger.info(response.content)"
   ]
  }
 ],
 "metadata": {
  "kernelspec": {
   "display_name": ".citi-icg-pocs",
   "language": "python",
   "name": "python3"
  },
  "language_info": {
   "codemirror_mode": {
    "name": "ipython",
    "version": 3
   },
   "file_extension": ".py",
   "mimetype": "text/x-python",
   "name": "python",
   "nbconvert_exporter": "python",
   "pygments_lexer": "ipython3",
   "version": "3.9.6"
  }
 },
 "nbformat": 4,
 "nbformat_minor": 2
}
