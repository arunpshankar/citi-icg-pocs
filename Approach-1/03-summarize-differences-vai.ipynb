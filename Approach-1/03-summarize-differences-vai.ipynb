{
 "cells": [
  {
   "cell_type": "markdown",
   "metadata": {},
   "source": [
    "## Finding Differences Between Summaries by Topic Using Text Bison\n",
    "This notebook utilizes the Text Bison model to compare and discern the differences between two summaries. The primary steps include:<br><br>\n",
    "* Configuration and Setup\n",
    "* Loading Document Summaries\n",
    "* Comparing and Highlighting Differences"
   ]
  },
  {
   "cell_type": "markdown",
   "metadata": {},
   "source": [
    "#### 1. Configuration and Setup\n",
    "1.1. Import Necessary Libraries"
   ]
  },
  {
   "cell_type": "code",
   "execution_count": 1,
   "metadata": {},
   "outputs": [],
   "source": [
    "# Importing necessary libraries for Vertex AI, prompts, and logging\n",
    "from langchain.prompts import PromptTemplate\n",
    "from langchain.llms.vertexai import VertexAI\n",
    "import logging\n",
    "import os"
   ]
  },
  {
   "cell_type": "markdown",
   "metadata": {},
   "source": [
    "1.2. Logging Setup"
   ]
  },
  {
   "cell_type": "code",
   "execution_count": 2,
   "metadata": {},
   "outputs": [],
   "source": [
    "# Set up logging to track progress and detect potential issues\n",
    "logger = logging.getLogger(__name__)\n",
    "logger.setLevel(logging.DEBUG)\n",
    "logger.addHandler(logging.StreamHandler())"
   ]
  },
  {
   "cell_type": "markdown",
   "metadata": {},
   "source": [
    "1.3. Environment and Path Setup"
   ]
  },
  {
   "cell_type": "code",
   "execution_count": 3,
   "metadata": {},
   "outputs": [],
   "source": [
    "# Set up the path for Vertex AI API credentials\n",
    "os.environ['GOOGLE_APPLICATION_CREDENTIALS'] = './../credentials/vai-key.json'\n",
    "\n",
    "# Define paths for input data and output results\n",
    "LOCAL_INPUT_DIR = './DATA/INPUT'\n",
    "LOCAL_OUTPUT_DIR = './DATA/OUTPUT'\n",
    "\n",
    "# Specify the model name\n",
    "TEXT_GEN_MODEL_NAME = 'text-bison@latest'\n",
    "\n",
    "# Define file names for the summaries to be compared\n",
    "FILE_NAME_1 = 'file-1'\n",
    "FILE_NAME_2 = 'file-2'"
   ]
  },
  {
   "cell_type": "markdown",
   "metadata": {},
   "source": [
    "#### 2. Loading Document Summaries"
   ]
  },
  {
   "cell_type": "code",
   "execution_count": 4,
   "metadata": {},
   "outputs": [],
   "source": [
    "# Load the summaries of the two documents to be compared\n",
    "with open(f'{LOCAL_OUTPUT_DIR}/{FILE_NAME_1}/SUMMARY/{FILE_NAME_1}-summary-vai.txt', 'rb') as f:\n",
    "    summary_1 = f.read()\n",
    "\n",
    "with open(f'{LOCAL_OUTPUT_DIR}/{FILE_NAME_2}/SUMMARY/{FILE_NAME_2}-summary-vai.txt', 'rb') as f:\n",
    "    summary_2 = f.read()"
   ]
  },
  {
   "cell_type": "markdown",
   "metadata": {},
   "source": [
    "#### 3. Comparing and Highlighting Differences\n",
    "3.1. Initialize the Text Bison Model"
   ]
  },
  {
   "cell_type": "code",
   "execution_count": 5,
   "metadata": {},
   "outputs": [],
   "source": [
    "# Initialize the Text Bison model for comparison tasks\n",
    "llm = VertexAI(max_output_tokens=2048, \n",
    "               model_name=TEXT_GEN_MODEL_NAME,\n",
    "               temperature=0,\n",
    "               top_p=0.8,\n",
    "               top_k=40,\n",
    "               verbose=True)"
   ]
  },
  {
   "cell_type": "markdown",
   "metadata": {},
   "source": [
    "3.2. Formulate the Prompt for Comparison"
   ]
  },
  {
   "cell_type": "code",
   "execution_count": 6,
   "metadata": {},
   "outputs": [],
   "source": [
    "# Define the prompt template to guide the model in comparing the summaries\n",
    "template = \"\"\"\n",
    "You are a Derivatives Risk Analyst tasked with comparing the summaries of two documents, SUMMARY_1 and SUMMARY_2 provided below.\n",
    "---\n",
    "SUMMARY_1 => {summary_1}\n",
    "---\n",
    "SUMMARY_2 => {summary_2}\n",
    "---\n",
    "First, identify common themes between them. \n",
    "Next, point out the differences between the identified topics.\n",
    "Finally, write a detailed paragraph on the identified differences.\n",
    "\"\"\"\n",
    "prompt_template = PromptTemplate(input_variables=['summary_1', 'summary_2'], template=template)\n",
    "prompt = prompt_template.format(summary_1=summary_1, summary_2=summary_2)"
   ]
  },
  {
   "cell_type": "markdown",
   "metadata": {},
   "source": [
    "3.3. Execute the Model and Retrieve Response"
   ]
  },
  {
   "cell_type": "code",
   "execution_count": 7,
   "metadata": {},
   "outputs": [
    {
     "name": "stderr",
     "output_type": "stream",
     "text": [
      " **Common themes:**\n",
      "\n",
      "- Both documents discuss the calculation of adjusted notional amount for various types of derivative contracts.\n",
      "- Both documents discuss haircuts for market price volatility.\n",
      "- Both documents discuss the minimum period of risk (MPOR) for derivative contracts.\n",
      "- Both documents discuss the calculation of replacement cost and potential future exposure for derivative contracts.\n",
      "- Both documents discuss the calculation of risk-weighted asset amount for derivative contracts.\n",
      "\n",
      "**Differences:**\n",
      "\n",
      "- SUMMARY_1 provides more detailed information on the calculation of adjusted notional amount, haircuts for market price volatility, and MPOR, while SUMMARY_2 provides more detailed information on the calculation of replacement cost and potential future exposure, and risk-weighted asset amount.\n",
      "- SUMMARY_1 includes a table showing the haircuts for market price volatility, while SUMMARY_2 does not.\n",
      "- SUMMARY_1 provides a formula for calculating the MPOR for a derivative contract that is not subject to a variation margin agreement, while SUMMARY_2 does not.\n",
      "- SUMMARY_1 provides a formula for calculating the replacement cost and potential future exposure for derivative contracts that are subject to a single variation margin agreement or multiple variation margin agreements, while SUMMARY_2 does not.\n",
      "- SUMMARY_1 provides a formula for calculating the risk-weighted asset amount of a netting set, while SUMMARY_2 does not.\n",
      "\n",
      "**Detailed paragraph on the identified differences:**\n",
      "\n",
      "SUMMARY_1 provides more detailed information on the calculation of adjusted notional amount, haircuts for market price volatility, and MPOR, while SUMMARY_2 provides more detailed information on the calculation of replacement cost and potential future exposure, and risk-weighted asset amount. \n",
      "\n",
      "For example, SUMMARY_1 provides a table showing the haircuts for market price volatility, while SUMMARY_2 does not. SUMMARY_1 also provides a formula for calculating the MPOR for a derivative contract that is not subject to a variation margin agreement, while SUMMARY_2 does not. \n",
      "\n",
      "On the other hand, SUMMARY_2 provides a formula for calculating the replacement cost and potential future exposure for derivative contracts that are subject to a single variation margin agreement or multiple variation margin agreements, while SUMMARY_1 does not. SUMMARY_2 also provides a formula for calculating the risk-weighted asset amount of a netting set, while SUMMARY_1 does not.\n"
     ]
    }
   ],
   "source": [
    "# Run the model with the formulated prompt and log the response\n",
    "response = llm(prompt=prompt)\n",
    "logger.info(response)"
   ]
  }
 ],
 "metadata": {
  "kernelspec": {
   "display_name": ".citi-icg-pocs",
   "language": "python",
   "name": "python3"
  },
  "language_info": {
   "codemirror_mode": {
    "name": "ipython",
    "version": 3
   },
   "file_extension": ".py",
   "mimetype": "text/x-python",
   "name": "python",
   "nbconvert_exporter": "python",
   "pygments_lexer": "ipython3",
   "version": "3.9.6"
  }
 },
 "nbformat": 4,
 "nbformat_minor": 2
}
