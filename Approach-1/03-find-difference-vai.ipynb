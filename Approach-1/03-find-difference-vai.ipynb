{
 "cells": [
  {
   "cell_type": "markdown",
   "metadata": {},
   "source": [
    "## Find difference in the processing of derivative contracts using Text Bison"
   ]
  },
  {
   "cell_type": "markdown",
   "metadata": {},
   "source": [
    "#### Imports "
   ]
  },
  {
   "cell_type": "code",
   "execution_count": 1,
   "metadata": {},
   "outputs": [],
   "source": [
    "from langchain.prompts import PromptTemplate\n",
    "from langchain.llms.vertexai import VertexAI\n",
    "import logging\n",
    "import os"
   ]
  },
  {
   "cell_type": "markdown",
   "metadata": {},
   "source": [
    "##### Setup logging"
   ]
  },
  {
   "cell_type": "code",
   "execution_count": 2,
   "metadata": {},
   "outputs": [],
   "source": [
    "logger = logging.getLogger(__name__)\n",
    "logger.setLevel(logging.DEBUG)\n",
    "logger.addHandler(logging.StreamHandler())"
   ]
  },
  {
   "cell_type": "markdown",
   "metadata": {},
   "source": [
    "#### Setup"
   ]
  },
  {
   "cell_type": "code",
   "execution_count": 3,
   "metadata": {},
   "outputs": [],
   "source": [
    "os.environ['GOOGLE_APPLICATION_CREDENTIALS'] = './credentials/vai-key.json'\n",
    "\n",
    "LOCAL_INPUT_DIR = './DATA/INPUT'\n",
    "LOCAL_OUTPUT_DIR = './DATA/OUTPUT'\n",
    "\n",
    "TEXT_GEN_MODEL_NAME = 'text-bison@latest'\n",
    "\n",
    "FILE_NAME_1 = 'file-1'\n",
    "FILE_NAME_2 = 'file-2'"
   ]
  },
  {
   "cell_type": "markdown",
   "metadata": {},
   "source": [
    "#### Find differences "
   ]
  },
  {
   "cell_type": "code",
   "execution_count": 4,
   "metadata": {},
   "outputs": [],
   "source": [
    "with open(f'{LOCAL_OUTPUT_DIR}/{FILE_NAME_1}/SUMMARY/{FILE_NAME_1}-summary-vai.txt', 'rb') as f:\n",
    "    summary_1 = f.read()\n",
    "\n",
    "with open(f'{LOCAL_OUTPUT_DIR}/{FILE_NAME_2}/SUMMARY/{FILE_NAME_2}-summary-vai.txt', 'rb') as f:\n",
    "    summary_2 = f.read()"
   ]
  },
  {
   "cell_type": "code",
   "execution_count": 5,
   "metadata": {},
   "outputs": [],
   "source": [
    "llm = VertexAI(max_output_tokens=2048, \n",
    "               model_name=TEXT_GEN_MODEL_NAME,\n",
    "               temperature=0,\n",
    "               top_p=0.8,\n",
    "               top_k=40,\n",
    "               verbose=True)"
   ]
  },
  {
   "cell_type": "code",
   "execution_count": 6,
   "metadata": {},
   "outputs": [],
   "source": [
    "template = \"\"\"You are a Derivatives Risk Analyst tasked with comparing the summaries of two documents, SUMMARY_1 and SUMMARY_2 provided below.\n",
    "---\n",
    "SUMMARY_1 => {summary_1}\n",
    "---\n",
    "SUMMARY_2 => {summary_2}\n",
    "---\n",
    "First identify common themes between them. \n",
    "Next, point out the differences between the identified topics.\n",
    "Finally, write a detailed paragraph on the identified differences.\n",
    "\"\"\"\n",
    "prompt_template = PromptTemplate(input_variables=['summary_1', 'summary_2'], template=template)\n",
    "prompt = prompt_template.format(summary_1=summary_1, summary_2=summary_2)"
   ]
  },
  {
   "cell_type": "code",
   "execution_count": 7,
   "metadata": {},
   "outputs": [],
   "source": [
    "response = llm(prompt=prompt)"
   ]
  },
  {
   "cell_type": "code",
   "execution_count": 8,
   "metadata": {},
   "outputs": [
    {
     "name": "stderr",
     "output_type": "stream",
     "text": [
      " **Common themes:**\n",
      "\n",
      "- Both documents discuss the calculation of adjusted notional amount for various types of derivative contracts.\n",
      "- Both documents discuss haircuts for market price volatility.\n",
      "- Both documents discuss the minimum period of risk (MPOR) for derivative contracts.\n",
      "- Both documents discuss the calculation of replacement cost and potential future exposure for derivative contracts.\n",
      "- Both documents discuss the calculation of risk-weighted asset amount for netting sets.\n",
      "\n",
      "**Differences:**\n",
      "\n",
      "- SUMMARY_1 provides more detailed information on the calculation of adjusted notional amount for equity or commodity volatility derivative contracts, while SUMMARY_2 provides more detailed information on the calculation of adjusted notional amount for interest rate or credit derivative contracts and exchange rate derivative contracts.\n",
      "- SUMMARY_1 provides a table showing the haircuts for market price volatility, while SUMMARY_2 does not.\n",
      "- SUMMARY_1 provides more detailed information on the MPOR for derivative contracts, while SUMMARY_2 only provides the formula for calculating the MPOR.\n",
      "- SUMMARY_1 provides a formula for calculating the hedging set amount, while SUMMARY_2 does not.\n",
      "- SUMMARY_1 provides more detailed information on the calculation of replacement cost and potential future exposure for derivative contracts that are subject to a single variation margin agreement or multiple variation margin agreements, while SUMMARY_2 does not.\n",
      "- SUMMARY_1 provides a formula for calculating the risk-weighted asset amount for a netting set, while SUMMARY_2 provides a formula for calculating the risk-weighted asset amount for a commodity derivative contract hedging set within a netting set.\n",
      "\n",
      "**Detailed paragraph on the identified differences:**\n",
      "\n",
      "The two documents differ in their level of detail on certain topics. For example, SUMMARY_1 provides more detailed information on the calculation of adjusted notional amount for equity or commodity volatility derivative contracts, while SUMMARY_2 provides more detailed information on the calculation of adjusted notional amount for interest rate or credit derivative contracts and exchange rate derivative contracts. Additionally, SUMMARY_1 provides a table showing the haircuts for market price volatility, while SUMMARY_2 does not. SUMMARY_1 also provides more detailed information on the MPOR for derivative contracts, while SUMMARY_2 only provides the formula for calculating the MPOR. Finally, SUMMARY_1 provides a formula for calculating the hedging set amount, while SUMMARY_2 does not.\n"
     ]
    }
   ],
   "source": [
    "logger.info(response)"
   ]
  }
 ],
 "metadata": {
  "kernelspec": {
   "display_name": ".venv",
   "language": "python",
   "name": "python3"
  },
  "language_info": {
   "codemirror_mode": {
    "name": "ipython",
    "version": 3
   },
   "file_extension": ".py",
   "mimetype": "text/x-python",
   "name": "python",
   "nbconvert_exporter": "python",
   "pygments_lexer": "ipython3",
   "version": "3.9.6"
  },
  "orig_nbformat": 4
 },
 "nbformat": 4,
 "nbformat_minor": 2
}
