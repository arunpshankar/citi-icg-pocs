{
 "cells": [
  {
   "cell_type": "markdown",
   "metadata": {},
   "source": [
    "## Finding Differences Between Summaries by Topic Using GPT-4\n",
    "This notebook uses the GPT-4 model to compare and highlight the differences between two summaries. The primary steps involve:<br><br>\n",
    "* Configuration and Setup<br>\n",
    "* Loading Document Summaries<br>\n",
    "* Comparing and Highlighting Differences<br>"
   ]
  },
  {
   "cell_type": "markdown",
   "metadata": {},
   "source": [
    "#### 1. Configuration and Setup\n",
    "1.1. Import Necessary Libraries"
   ]
  },
  {
   "cell_type": "code",
   "execution_count": 1,
   "metadata": {},
   "outputs": [],
   "source": [
    "# Importing necessary libraries for chat modeling, prompts, logging, etc.\n",
    "from langchain.prompts import SystemMessagePromptTemplate, HumanMessagePromptTemplate, ChatPromptTemplate\n",
    "from langchain.chat_models import ChatOpenAI\n",
    "import logging\n",
    "import yaml\n",
    "import os"
   ]
  },
  {
   "cell_type": "markdown",
   "metadata": {},
   "source": [
    "1.2. Logging Setup"
   ]
  },
  {
   "cell_type": "code",
   "execution_count": 2,
   "metadata": {},
   "outputs": [],
   "source": [
    "# Set up logging to capture progress and potential issues\n",
    "logger = logging.getLogger(__name__)\n",
    "logger.setLevel(logging.DEBUG)\n",
    "logger.addHandler(logging.StreamHandler())"
   ]
  },
  {
   "cell_type": "markdown",
   "metadata": {},
   "source": [
    "1.3. Load API Key and Set Paths"
   ]
  },
  {
   "cell_type": "code",
   "execution_count": 3,
   "metadata": {},
   "outputs": [],
   "source": [
    "# Load the API key from the credentials file\n",
    "with open('./../credentials/oai-key.yml', 'rb') as f:\n",
    "    credentials = yaml.safe_load(f)\n",
    "\n",
    "api_key = credentials['key']\n",
    "os.environ['OPENAI_API_KEY'] = api_key\n",
    "\n",
    "# Define paths for input and output data\n",
    "LOCAL_INPUT_DIR = './DATA/INPUT'\n",
    "LOCAL_OUTPUT_DIR = './DATA/OUTPUT'\n",
    "\n",
    "# Specify the model name\n",
    "MODEL_NAME = 'gpt-4'\n",
    "\n",
    "# Define file names for the summaries to be compared\n",
    "FILE_NAME_1 = 'file-1'\n",
    "FILE_NAME_2 = 'file-2'"
   ]
  },
  {
   "cell_type": "markdown",
   "metadata": {},
   "source": [
    "#### 2. Loading Document Summaries"
   ]
  },
  {
   "cell_type": "code",
   "execution_count": 4,
   "metadata": {},
   "outputs": [],
   "source": [
    "# Load the summaries of the two documents for comparison\n",
    "with open(f'{LOCAL_OUTPUT_DIR}/{FILE_NAME_1}/SUMMARY/{FILE_NAME_1}-summary-vai.txt', 'rb') as f:\n",
    "    summary_1 = f.read()\n",
    "\n",
    "with open(f'{LOCAL_OUTPUT_DIR}/{FILE_NAME_2}/SUMMARY/{FILE_NAME_2}-summary-vai.txt', 'rb') as f:\n",
    "    summary_2 = f.read()"
   ]
  },
  {
   "cell_type": "markdown",
   "metadata": {},
   "source": [
    "#### 3. Comparing and Highlighting Differences\n",
    "3.1. Initialize the GPT-4 Model"
   ]
  },
  {
   "cell_type": "code",
   "execution_count": 5,
   "metadata": {},
   "outputs": [],
   "source": [
    "# Initialize the GPT-4 model for chat-based tasks\n",
    "llm = ChatOpenAI(model_name=MODEL_NAME, \n",
    "                 temperature=0.0, \n",
    "                 max_tokens=2048)"
   ]
  },
  {
   "cell_type": "markdown",
   "metadata": {},
   "source": [
    "3.2. Define Chat Prompts"
   ]
  },
  {
   "cell_type": "code",
   "execution_count": 6,
   "metadata": {},
   "outputs": [],
   "source": [
    "# Define the system prompt for introducing the task to the model\n",
    "system_template = \"\"\"\n",
    "You are a Derivatives Risk Analyst tasked with comparing the summaries of two documents, SUMMARY_1 and SUMMARY_2 provided below.\n",
    "---\n",
    "SUMMARY_1 => {summary_1}\n",
    "---\n",
    "SUMMARY_2 => {summary_2}\n",
    "---\n",
    "\"\"\"\n",
    "system_message_prompt = SystemMessagePromptTemplate.from_template(system_template)\n",
    "\n",
    "# Define the human prompt to instruct the model on how to approach the comparison\n",
    "human_template = \"\"\"\n",
    "First, identify common themes between them. \n",
    "Next, point out the differences between the identified topics.\n",
    "Finally, write a detailed paragraph on the identified differences.\n",
    "\"\"\"\n",
    "human_message_prompt = HumanMessagePromptTemplate.from_template(human_template)\n",
    "\n",
    "# Combine the system and human prompts\n",
    "chat_prompt = ChatPromptTemplate.from_messages([system_message_prompt, human_message_prompt])\n",
    "prompt = chat_prompt.format_prompt(summary_1=summary_1, summary_2=summary_2).to_messages()"
   ]
  },
  {
   "cell_type": "markdown",
   "metadata": {},
   "source": [
    "3.3. Execute the Model and Retrieve Response"
   ]
  },
  {
   "cell_type": "code",
   "execution_count": 7,
   "metadata": {},
   "outputs": [
    {
     "name": "stderr",
     "output_type": "stream",
     "text": [
      "Common Themes:\n",
      "1. Calculation of Adjusted Notional Amount: Both summaries discuss the calculation of the adjusted notional amount for different types of derivative contracts such as equity, commodity, interest rate, credit, and exchange rate derivative contracts.\n",
      "2. Maturity Factor: Both summaries provide details on how to calculate the maturity factor of a derivative contract that is not subject to a variation margin agreement.\n",
      "3. Supervisory Delta Adjustment: Both summaries discuss the supervisory delta adjustment for derivative contracts, particularly for option contracts.\n",
      "\n",
      "Differences:\n",
      "1. Haircuts for Market Price Volatility: SUMMARY_1 provides detailed information on the haircuts for market price volatility based on different residual maturities and exposure types. This information is not present in SUMMARY_2.\n",
      "2. Minimum Period of Risk (MPOR): SUMMARY_1 discusses the MPOR for a derivative contract based on the type of contract and the counterparty. This topic is not covered in SUMMARY_2.\n",
      "3. Hedging Set Amount Formula: SUMMARY_1 provides a formula for calculating the hedging set amount. This is not mentioned in SUMMARY_2.\n",
      "4. Replacement Cost and Potential Future Exposure: SUMMARY_1 provides a detailed explanation on how to calculate the replacement cost and potential future exposure for derivative contracts. This is not covered in SUMMARY_2.\n",
      "5. Separating Derivative Contracts: SUMMARY_2 discusses the rules for separating a derivative contract into separate derivative contracts, particularly for binary options. This is not mentioned in SUMMARY_1.\n",
      "6. Securitization Exposures: SUMMARY_2 provides a detailed explanation of securitization exposures, including examples. This topic is not covered in SUMMARY_1.\n",
      "7. Risk-Weighted Asset Amount: SUMMARY_2 provides information on how to calculate the risk-weighted asset amount of a netting set. This is not mentioned in SUMMARY_1.\n",
      "8. Definitions: SUMMARY_2 provides definitions for terms such as \"end date\", \"start date\", \"hedging set\", \"covered bond\", \"credit spread risk\", \"credit valuation adjustment (CVA)\", \"cross-currency basis\", \"currency union\", and \"curvature risk\". These terms are not defined in SUMMARY_1.\n",
      "\n",
      "In detail, SUMMARY_1 and SUMMARY_2 both discuss the calculation of the adjusted notional amount, maturity factor, and supervisory delta adjustment for various types of derivative contracts. However, they differ significantly in other areas. SUMMARY_1 provides a comprehensive overview of the haircuts for market price volatility, the minimum period of risk (MPOR) for derivative contracts, the hedging set amount formula, and the calculation of replacement cost and potential future exposure for derivative contracts. On the other hand, SUMMARY_2 delves into the rules for separating derivative contracts, particularly binary options, and provides a detailed explanation of securitization exposures. It also explains how to calculate the risk-weighted asset amount of a netting set and provides definitions for various financial terms. These topics are not covered in SUMMARY_1, indicating a difference in focus between the two summaries.\n"
     ]
    }
   ],
   "source": [
    "# Execute the model with the formulated prompt and log the response\n",
    "response = llm(prompt)\n",
    "logger.info(response.content)"
   ]
  }
 ],
 "metadata": {
  "kernelspec": {
   "display_name": ".citi-icg-pocs",
   "language": "python",
   "name": "python3"
  },
  "language_info": {
   "codemirror_mode": {
    "name": "ipython",
    "version": 3
   },
   "file_extension": ".py",
   "mimetype": "text/x-python",
   "name": "python",
   "nbconvert_exporter": "python",
   "pygments_lexer": "ipython3",
   "version": "3.9.6"
  }
 },
 "nbformat": 4,
 "nbformat_minor": 2
}
