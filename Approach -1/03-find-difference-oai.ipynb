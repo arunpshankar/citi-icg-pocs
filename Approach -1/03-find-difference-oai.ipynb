{
 "cells": [
  {
   "cell_type": "markdown",
   "metadata": {},
   "source": [
    "## Find difference in the processing of derivative contracts using GPT-4"
   ]
  },
  {
   "cell_type": "markdown",
   "metadata": {},
   "source": [
    "#### Imports "
   ]
  },
  {
   "cell_type": "code",
   "execution_count": 1,
   "metadata": {},
   "outputs": [],
   "source": [
    "from langchain.prompts import SystemMessagePromptTemplate\n",
    "from langchain.prompts import HumanMessagePromptTemplate\n",
    "from langchain.prompts import ChatPromptTemplate\n",
    "from langchain.chat_models import ChatOpenAI\n",
    "import logging\n",
    "import yaml\n",
    "import os"
   ]
  },
  {
   "cell_type": "markdown",
   "metadata": {},
   "source": [
    "##### Setup logging"
   ]
  },
  {
   "cell_type": "code",
   "execution_count": 2,
   "metadata": {},
   "outputs": [],
   "source": [
    "logger = logging.getLogger(__name__)\n",
    "logger.setLevel(logging.DEBUG)\n",
    "logger.addHandler(logging.StreamHandler())"
   ]
  },
  {
   "cell_type": "markdown",
   "metadata": {},
   "source": [
    "#### Setup"
   ]
  },
  {
   "cell_type": "code",
   "execution_count": 3,
   "metadata": {},
   "outputs": [],
   "source": [
    "with open('./credentials/oai-key.yml', 'rb') as f:\n",
    "    credentials = yaml.safe_load(f)\n",
    "    \n",
    "api_key = credentials['key']\n",
    "os.environ['OPENAI_API_KEY'] = api_key"
   ]
  },
  {
   "cell_type": "code",
   "execution_count": 4,
   "metadata": {},
   "outputs": [],
   "source": [
    "LOCAL_INPUT_DIR = './DATA/INPUT'\n",
    "LOCAL_OUTPUT_DIR = './DATA/OUTPUT'\n",
    "\n",
    "MODEL_NAME = 'gpt-4'\n",
    "\n",
    "FILE_NAME_1 = 'file-1'\n",
    "FILE_NAME_2 = 'file-2'"
   ]
  },
  {
   "cell_type": "markdown",
   "metadata": {},
   "source": [
    "#### Find differences "
   ]
  },
  {
   "cell_type": "code",
   "execution_count": 5,
   "metadata": {},
   "outputs": [],
   "source": [
    "with open(f'{LOCAL_OUTPUT_DIR}/{FILE_NAME_1}/SUMMARY/{FILE_NAME_1}-summary-vai.txt', 'rb') as f:\n",
    "    summary_1 = f.read()\n",
    "\n",
    "with open(f'{LOCAL_OUTPUT_DIR}/{FILE_NAME_2}/SUMMARY/{FILE_NAME_2}-summary-vai.txt', 'rb') as f:\n",
    "    summary_2 = f.read()"
   ]
  },
  {
   "cell_type": "code",
   "execution_count": 6,
   "metadata": {},
   "outputs": [],
   "source": [
    "llm = ChatOpenAI(model_name=MODEL_NAME, \n",
    "                 temperature=0.0, \n",
    "                 max_tokens=2048)"
   ]
  },
  {
   "cell_type": "code",
   "execution_count": 7,
   "metadata": {},
   "outputs": [],
   "source": [
    "system_template = \"\"\"You are a Derivatives Risk Analyst tasked with comparing the summaries of two documents, SUMMARY_1 and SUMMARY_2 provided below.\n",
    "---\n",
    "SUMMARY_1 => {summary_1}\n",
    "---\n",
    "SUMMARY_2 => {summary_2}\n",
    "---\n",
    "\"\"\"\n",
    "system_message_prompt = SystemMessagePromptTemplate.from_template(system_template)\n",
    "\n",
    "human_template = \"\"\"First identify common themes between them. \n",
    "Next, point out the differences between the identified topics.\n",
    "Finally, write a detailed paragraph on the identified differences.\"\"\"\n",
    "human_message_prompt = HumanMessagePromptTemplate.from_template(human_template)\n",
    "\n",
    "chat_prompt = ChatPromptTemplate.from_messages([system_message_prompt, human_message_prompt])\n",
    "prompt = chat_prompt.format_prompt(summary_1=summary_1, summary_2=summary_2).to_messages()"
   ]
  },
  {
   "cell_type": "code",
   "execution_count": 8,
   "metadata": {},
   "outputs": [],
   "source": [
    "response = llm(prompt)"
   ]
  },
  {
   "cell_type": "code",
   "execution_count": 9,
   "metadata": {},
   "outputs": [
    {
     "name": "stderr",
     "output_type": "stream",
     "text": [
      "Common Themes:\n",
      "1. Calculation of Adjusted Notional Amount: Both summaries discuss the calculation of the adjusted notional amount for different types of derivative contracts, including equity, commodity, interest rate, credit, and exchange rate derivative contracts.\n",
      "2. Maturity Factor: Both summaries provide details on how to calculate the maturity factor of a derivative contract that is not subject to a variation margin agreement.\n",
      "3. Treatment of Cleared Transactions: Both summaries discuss the treatment of cleared transactions that are not subject to a variation margin agreement.\n",
      "4. Supervisory Duration: Both summaries discuss the calculation of the supervisory duration for an interest rate or credit derivative contract.\n",
      "\n",
      "Differences:\n",
      "1. Haircuts for Market Price Volatility: SUMMARY_1 provides detailed information on the haircuts for market price volatility based on different residual maturities and exposure types, while SUMMARY_2 does not mention this topic.\n",
      "2. Minimum Period of Risk (MPOR): SUMMARY_1 discusses the MPOR for a derivative contract based on the type of contract and the counterparty, while SUMMARY_2 does not mention this topic.\n",
      "3. Hedging Set Amount Formula: SUMMARY_1 provides a formula for calculating the hedging set amount, while SUMMARY_2 does not mention this topic.\n",
      "4. Calculation of Replacement Cost and Potential Future Exposure: SUMMARY_1 provides details on how to calculate the replacement cost and potential future exposure for derivative contracts, while SUMMARY_2 does not mention this topic.\n",
      "5. Separation of Derivative Contracts: SUMMARY_2 discusses the separation of derivative contracts into separate contracts, while SUMMARY_1 does not mention this topic.\n",
      "6. Securitization Exposures: SUMMARY_2 provides a detailed explanation of securitization exposures, while SUMMARY_1 does not mention this topic.\n",
      "7. Risk-Weighted Asset Amount: SUMMARY_2 provides a method for calculating the risk-weighted asset amount of a netting set, while SUMMARY_1 does not mention this topic.\n",
      "8. Foreign Exchange Risk: SUMMARY_2 provides definitions related to foreign exchange risk, while SUMMARY_1 does not mention this topic.\n",
      "\n",
      "Detailed Paragraph on Differences:\n",
      "SUMMARY_1 and SUMMARY_2 both provide comprehensive information on the calculation of the adjusted notional amount, maturity factor, treatment of cleared transactions, and supervisory duration for various types of derivative contracts. However, they differ significantly in their coverage of other topics. SUMMARY_1 provides detailed information on the haircuts for market price volatility, the minimum period of risk (MPOR) for a derivative contract, the hedging set amount formula, and the calculation of replacement cost and potential future exposure for derivative contracts. On the other hand, SUMMARY_2 delves into the separation of derivative contracts into separate contracts, the nature of securitization exposures, the calculation of the risk-weighted asset amount of a netting set, and definitions related to foreign exchange risk. These differences highlight the unique focus of each summary, with SUMMARY_1 emphasizing the risk management aspects of derivative contracts and SUMMARY_2 focusing more on the structural and definitional aspects of these financial instruments.\n"
     ]
    }
   ],
   "source": [
    "logger.info(response.content)"
   ]
  }
 ],
 "metadata": {
  "kernelspec": {
   "display_name": ".venv",
   "language": "python",
   "name": "python3"
  },
  "language_info": {
   "codemirror_mode": {
    "name": "ipython",
    "version": 3
   },
   "file_extension": ".py",
   "mimetype": "text/x-python",
   "name": "python",
   "nbconvert_exporter": "python",
   "pygments_lexer": "ipython3",
   "version": "3.9.6"
  },
  "orig_nbformat": 4
 },
 "nbformat": 4,
 "nbformat_minor": 2
}
