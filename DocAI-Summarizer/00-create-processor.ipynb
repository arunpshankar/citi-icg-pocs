{
 "cells": [
  {
   "cell_type": "markdown",
   "metadata": {},
   "source": [
    "## Create DocAI Summary Processor"
   ]
  },
  {
   "cell_type": "markdown",
   "metadata": {},
   "source": [
    "##### Imports "
   ]
  },
  {
   "cell_type": "code",
   "execution_count": 1,
   "metadata": {},
   "outputs": [],
   "source": [
    "from google.api_core.client_options import ClientOptions\n",
    "from google.cloud import documentai\n",
    "import logging\n",
    "import os "
   ]
  },
  {
   "cell_type": "markdown",
   "metadata": {},
   "source": [
    "##### Setup logging"
   ]
  },
  {
   "cell_type": "code",
   "execution_count": 2,
   "metadata": {},
   "outputs": [],
   "source": [
    "logger = logging.getLogger(__name__)\n",
    "logger.setLevel(logging.INFO)\n",
    "logger.addHandler(logging.StreamHandler())"
   ]
  },
  {
   "cell_type": "markdown",
   "metadata": {},
   "source": [
    "#### Essentials"
   ]
  },
  {
   "cell_type": "code",
   "execution_count": 3,
   "metadata": {},
   "outputs": [],
   "source": [
    "os.environ['GOOGLE_APPLICATION_CREDENTIALS'] = './../credentials/vai-key.json'\n",
    "\n",
    "PROJECT_ID = 'arun-genai-bb'\n",
    "LOCATION = 'us'  # not us-central1"
   ]
  },
  {
   "cell_type": "code",
   "execution_count": 4,
   "metadata": {},
   "outputs": [],
   "source": [
    "client_options = ClientOptions(api_endpoint=f\"{LOCATION}-documentai.googleapis.com\")\n",
    "client = documentai.DocumentProcessorServiceClient(client_options=client_options)\n",
    "parent = client.common_location_path(PROJECT_ID, LOCATION)"
   ]
  },
  {
   "cell_type": "markdown",
   "metadata": {},
   "source": [
    "#### Create summary processor"
   ]
  },
  {
   "cell_type": "code",
   "execution_count": 6,
   "metadata": {},
   "outputs": [
    {
     "data": {
      "text/plain": [
       "name: \"projects/390991481152/locations/us/processors/86e3109e1fe09371\"\n",
       "type_: \"SUMMARY_PROCESSOR\"\n",
       "display_name: \"fin-doc-summary-processor\"\n",
       "state: ENABLED\n",
       "default_processor_version: \"projects/390991481152/locations/us/processors/86e3109e1fe09371/processorVersions/pretrained-foundation-model-v1.0-2023-08-22\"\n",
       "process_endpoint: \"https://us-documentai.googleapis.com/v1/projects/390991481152/locations/us/processors/86e3109e1fe09371:process\"\n",
       "create_time {\n",
       "  seconds: 1695222612\n",
       "  nanos: 160368000\n",
       "}"
      ]
     },
     "execution_count": 6,
     "metadata": {},
     "output_type": "execute_result"
    }
   ],
   "source": [
    "summary_processor = client.create_processor(parent=parent, \n",
    "                                          processor=documentai.Processor(display_name='fin-doc-summary-processor', \n",
    "                                                                         type_='SUMMARY_PROCESSOR'))\n",
    "summary_processor"
   ]
  }
 ],
 "metadata": {
  "kernelspec": {
   "display_name": ".venv",
   "language": "python",
   "name": "python3"
  },
  "language_info": {
   "codemirror_mode": {
    "name": "ipython",
    "version": 3
   },
   "file_extension": ".py",
   "mimetype": "text/x-python",
   "name": "python",
   "nbconvert_exporter": "python",
   "pygments_lexer": "ipython3",
   "version": "3.9.6"
  },
  "orig_nbformat": 4
 },
 "nbformat": 4,
 "nbformat_minor": 2
}
